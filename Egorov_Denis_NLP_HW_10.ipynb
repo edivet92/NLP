{
  "nbformat": 4,
  "nbformat_minor": 0,
  "metadata": {
    "colab": {
      "provenance": [],
      "gpuType": "T4",
      "authorship_tag": "ABX9TyMFPuoUkbwOCf4rp4B9fm7D",
      "include_colab_link": true
    },
    "kernelspec": {
      "name": "python3",
      "display_name": "Python 3"
    },
    "language_info": {
      "name": "python"
    },
    "accelerator": "GPU"
  },
  "cells": [
    {
      "cell_type": "markdown",
      "metadata": {
        "id": "view-in-github",
        "colab_type": "text"
      },
      "source": [
        "<a href=\"https://colab.research.google.com/github/edivet92/NLP/blob/edivet92-patch-4/Egorov_Denis_NLP_HW_10.ipynb\" target=\"_parent\"><img src=\"https://colab.research.google.com/assets/colab-badge.svg\" alt=\"Open In Colab\"/></a>"
      ]
    },
    {
      "cell_type": "markdown",
      "source": [
        "### Практическое задание 10\n",
        "\n",
        "Разобраться с моделькой перевода как она устроена (без механизма внимания), запустить для перевода с русского на английский (при желании можно взять другие пары языков)\n"
      ],
      "metadata": {
        "id": "FCM0OORE0ZvZ"
      }
    },
    {
      "cell_type": "code",
      "execution_count": 1,
      "metadata": {
        "id": "AUxRUmKiyWK4"
      },
      "outputs": [],
      "source": [
        "import tensorflow as tf\n",
        "\n",
        "import matplotlib.pyplot as plt\n",
        "import matplotlib.ticker as ticker\n",
        "from sklearn.model_selection import train_test_split\n",
        "\n",
        "import unicodedata\n",
        "import re\n",
        "import numpy as np\n",
        "import os\n",
        "import io\n",
        "import time"
      ]
    },
    {
      "cell_type": "markdown",
      "source": [
        "## Download and prepare the dataset"
      ],
      "metadata": {
        "id": "pMrstW9N0zJm"
      }
    },
    {
      "cell_type": "code",
      "source": [
        "!wget http://www.manythings.org/anki/rus-eng.zip"
      ],
      "metadata": {
        "colab": {
          "base_uri": "https://localhost:8080/"
        },
        "id": "xkkS9XsS0mj4",
        "outputId": "a2e13da7-7e99-437c-cbf2-862bd194a73e"
      },
      "execution_count": 2,
      "outputs": [
        {
          "output_type": "stream",
          "name": "stdout",
          "text": [
            "--2023-09-11 15:19:20--  http://www.manythings.org/anki/rus-eng.zip\n",
            "Resolving www.manythings.org (www.manythings.org)... 173.254.30.110\n",
            "Connecting to www.manythings.org (www.manythings.org)|173.254.30.110|:80... connected.\n",
            "HTTP request sent, awaiting response... 200 OK\n",
            "Length: 15824155 (15M) [application/zip]\n",
            "Saving to: ‘rus-eng.zip’\n",
            "\n",
            "rus-eng.zip         100%[===================>]  15.09M  30.5MB/s    in 0.5s    \n",
            "\n",
            "2023-09-11 15:19:21 (30.5 MB/s) - ‘rus-eng.zip’ saved [15824155/15824155]\n",
            "\n"
          ]
        }
      ]
    },
    {
      "cell_type": "code",
      "source": [
        "!mkdir rus-eng\n",
        "!unzip rus-eng.zip -d rus-eng/"
      ],
      "metadata": {
        "colab": {
          "base_uri": "https://localhost:8080/"
        },
        "id": "lAyP1szr02az",
        "outputId": "dd77e04b-0367-4dd4-efe3-4e628813ca0b"
      },
      "execution_count": 3,
      "outputs": [
        {
          "output_type": "stream",
          "name": "stdout",
          "text": [
            "Archive:  rus-eng.zip\n",
            "  inflating: rus-eng/rus.txt         \n",
            "  inflating: rus-eng/_about.txt      \n"
          ]
        }
      ]
    },
    {
      "cell_type": "code",
      "source": [
        "!ls /content/rus-eng/ -lah"
      ],
      "metadata": {
        "colab": {
          "base_uri": "https://localhost:8080/"
        },
        "id": "wRJWzVek08zg",
        "outputId": "0488b5ae-99f9-4edf-c6e8-7d961bbfd992"
      },
      "execution_count": 4,
      "outputs": [
        {
          "output_type": "stream",
          "name": "stdout",
          "text": [
            "total 76M\n",
            "drwxr-xr-x 2 root root 4.0K Sep 11 15:19 .\n",
            "drwxr-xr-x 1 root root 4.0K Sep 11 15:19 ..\n",
            "-rw-r--r-- 1 root root 1.5K Jul 30 03:53 _about.txt\n",
            "-rw-r--r-- 1 root root  76M Jul 30 03:53 rus.txt\n"
          ]
        }
      ]
    },
    {
      "cell_type": "code",
      "source": [
        "path_to_file = \"/content/rus-eng/rus.txt\""
      ],
      "metadata": {
        "id": "3eh8cc1U0_gQ"
      },
      "execution_count": 5,
      "outputs": []
    },
    {
      "cell_type": "code",
      "source": [
        "def preprocess_sentence(w):\n",
        "  w = w.lower().strip()\n",
        "\n",
        "  # creating a space between a word and the punctuation following it\n",
        "  # eg: \"he is a boy.\" => \"he is a boy .\"\n",
        "  # Reference:- https://stackoverflow.com/questions/3645931/python-padding-punctuation-with-white-spaces-keeping-punctuation\n",
        "  w = re.sub(r\"([?.!,])\", r\" \\1 \", w)\n",
        "  w = re.sub(r'[\" \"]+', \" \", w)\n",
        "\n",
        "  # replacing everything with space except (a-z, A-Z, \".\", \"?\", \"!\", \",\")\n",
        "  w = re.sub(r\"[^a-zA-Zа-яА-Я?.!,']+\", \" \", w)\n",
        "\n",
        "  w = w.strip()\n",
        "\n",
        "  # adding a start and an end token to the sentence\n",
        "  # so that the model know when to start and stop predicting.\n",
        "  w = '<start> ' + w + ' <end>'\n",
        "  return w"
      ],
      "metadata": {
        "id": "uFe1F5ZT1Ivu"
      },
      "execution_count": 6,
      "outputs": []
    },
    {
      "cell_type": "code",
      "source": [
        "preprocess_sentence(\"I can't go.\")"
      ],
      "metadata": {
        "colab": {
          "base_uri": "https://localhost:8080/",
          "height": 36
        },
        "id": "bM0lRYRd1VSO",
        "outputId": "6becb675-8f2c-486d-b314-0480ab91d266"
      },
      "execution_count": 7,
      "outputs": [
        {
          "output_type": "execute_result",
          "data": {
            "text/plain": [
              "\"<start> i can't go . <end>\""
            ],
            "application/vnd.google.colaboratory.intrinsic+json": {
              "type": "string"
            }
          },
          "metadata": {},
          "execution_count": 7
        }
      ]
    },
    {
      "cell_type": "code",
      "source": [
        "# 1. Remove the accents\n",
        "# 2. Clean the sentences\n",
        "# 3. Return word pairs in the format: [ENG, RUS]\n",
        "def create_dataset(path, num_examples):\n",
        "  lines = io.open(path, encoding='UTF-8').read().strip().split('\\n')\n",
        "\n",
        "  word_pairs = [[preprocess_sentence(w) for w in l.split('\\t')[:2]]  for l in lines[:num_examples]]\n",
        "\n",
        "  return zip(*word_pairs)"
      ],
      "metadata": {
        "id": "Wh9xQINk1XXZ"
      },
      "execution_count": 8,
      "outputs": []
    },
    {
      "cell_type": "code",
      "source": [
        "en, ru = create_dataset(path_to_file, None)\n",
        "print(en[42])\n",
        "print(ru[42])"
      ],
      "metadata": {
        "colab": {
          "base_uri": "https://localhost:8080/"
        },
        "id": "aMEdbpz_1aGh",
        "outputId": "a66d6d03-d267-4fe1-cb27-7154f7bae0f3"
      },
      "execution_count": 9,
      "outputs": [
        {
          "output_type": "stream",
          "name": "stdout",
          "text": [
            "<start> wait ! <end>\n",
            "<start> стой ! <end>\n"
          ]
        }
      ]
    },
    {
      "cell_type": "code",
      "source": [
        "def tokenize(lang):\n",
        "  lang_tokenizer = tf.keras.preprocessing.text.Tokenizer(\n",
        "      filters='')\n",
        "  lang_tokenizer.fit_on_texts(lang)\n",
        "\n",
        "  tensor = lang_tokenizer.texts_to_sequences(lang)\n",
        "\n",
        "  tensor = tf.keras.preprocessing.sequence.pad_sequences(tensor,\n",
        "                                                         padding='post')\n",
        "\n",
        "  return tensor, lang_tokenizer"
      ],
      "metadata": {
        "id": "zHh40tWc1pXG"
      },
      "execution_count": 10,
      "outputs": []
    },
    {
      "cell_type": "code",
      "source": [
        "def load_dataset(path, num_examples=None):\n",
        "  # creating cleaned input, output pairs\n",
        "  targ_lang, inp_lang = create_dataset(path, num_examples)\n",
        "\n",
        "  input_tensor, inp_lang_tokenizer = tokenize(inp_lang)\n",
        "  target_tensor, targ_lang_tokenizer = tokenize(targ_lang)\n",
        "\n",
        "  return input_tensor, target_tensor, inp_lang_tokenizer, targ_lang_tokenizer"
      ],
      "metadata": {
        "id": "z30Sea2D1wja"
      },
      "execution_count": 11,
      "outputs": []
    },
    {
      "cell_type": "markdown",
      "source": [
        "### Limit the size of the dataset to experiment faster"
      ],
      "metadata": {
        "id": "oHZY16eF2Ouw"
      }
    },
    {
      "cell_type": "code",
      "source": [
        "len(en), len(ru)"
      ],
      "metadata": {
        "colab": {
          "base_uri": "https://localhost:8080/"
        },
        "id": "T4KtKS4d2DR3",
        "outputId": "0a635b4c-dc71-4730-a8c8-a655f8e3faf2"
      },
      "execution_count": 12,
      "outputs": [
        {
          "output_type": "execute_result",
          "data": {
            "text/plain": [
              "(479223, 479223)"
            ]
          },
          "metadata": {},
          "execution_count": 12
        }
      ]
    },
    {
      "cell_type": "code",
      "source": [
        "# Try experimenting with the size of that dataset\n",
        "num_examples = 100000\n",
        "input_tensor, target_tensor, inp_lang, targ_lang = load_dataset(path_to_file, num_examples)\n",
        "\n",
        "# Calculate max_length of the target tensors\n",
        "max_length_targ, max_length_inp = target_tensor.shape[1], input_tensor.shape[1]"
      ],
      "metadata": {
        "id": "b75WCd-82D0-"
      },
      "execution_count": 13,
      "outputs": []
    },
    {
      "cell_type": "code",
      "source": [
        "# Creating training and validation sets using an 80-20 split\n",
        "input_tensor_train, input_tensor_val, target_tensor_train, target_tensor_val = train_test_split(input_tensor, target_tensor, test_size=0.2)\n",
        "\n",
        "# Show length\n",
        "print(len(input_tensor_train), len(target_tensor_train), len(input_tensor_val), len(target_tensor_val))"
      ],
      "metadata": {
        "colab": {
          "base_uri": "https://localhost:8080/"
        },
        "id": "2Hq4H6Qr2ar4",
        "outputId": "680dcfe7-e2b6-49ea-8ab4-1e8e5d4d60e9"
      },
      "execution_count": 14,
      "outputs": [
        {
          "output_type": "stream",
          "name": "stdout",
          "text": [
            "80000 80000 20000 20000\n"
          ]
        }
      ]
    },
    {
      "cell_type": "code",
      "source": [
        "def convert(lang, tensor):\n",
        "  for t in tensor:\n",
        "    if t!=0:\n",
        "      print (\"%d ----> %s\" % (t, lang.index_word[t]))"
      ],
      "metadata": {
        "id": "i1y7ECV22a-4"
      },
      "execution_count": 15,
      "outputs": []
    },
    {
      "cell_type": "code",
      "source": [
        "print (\"Input Language; index to word mapping\")\n",
        "convert(inp_lang, input_tensor_train[42])\n",
        "print ()\n",
        "print (\"Target Language; index to word mapping\")\n",
        "convert(targ_lang, target_tensor_train[42])"
      ],
      "metadata": {
        "colab": {
          "base_uri": "https://localhost:8080/"
        },
        "id": "lG5Ycvs22hAF",
        "outputId": "9170b87a-57c9-465c-a4df-09bc5f09bc85"
      },
      "execution_count": 16,
      "outputs": [
        {
          "output_type": "stream",
          "name": "stdout",
          "text": [
            "Input Language; index to word mapping\n",
            "1 ----> <start>\n",
            "13 ----> мы\n",
            "9288 ----> побеждаем\n",
            "3 ----> .\n",
            "2 ----> <end>\n",
            "\n",
            "Target Language; index to word mapping\n",
            "1 ----> <start>\n",
            "66 ----> we're\n",
            "999 ----> winning\n",
            "3 ----> .\n",
            "2 ----> <end>\n"
          ]
        }
      ]
    },
    {
      "cell_type": "markdown",
      "source": [
        "### Create a tf.data dataset"
      ],
      "metadata": {
        "id": "3UrRfbQ42z5D"
      }
    },
    {
      "cell_type": "code",
      "source": [
        "BUFFER_SIZE = len(input_tensor_train)\n",
        "BATCH_SIZE = 64\n",
        "steps_per_epoch = len(input_tensor_train)//BATCH_SIZE\n",
        "embedding_dim = 300\n",
        "units = 1024\n",
        "vocab_inp_size = len(inp_lang.word_index)+1\n",
        "vocab_tar_size = len(targ_lang.word_index)+1\n",
        "\n",
        "dataset = tf.data.Dataset.from_tensor_slices((input_tensor_train, target_tensor_train)).shuffle(BUFFER_SIZE)\n",
        "dataset = dataset.batch(BATCH_SIZE, drop_remainder=True)"
      ],
      "metadata": {
        "id": "y4VuEBeL2yra"
      },
      "execution_count": 17,
      "outputs": []
    },
    {
      "cell_type": "code",
      "source": [
        "example_input_batch, example_target_batch = next(iter(dataset))\n",
        "example_input_batch.shape, example_target_batch.shape"
      ],
      "metadata": {
        "colab": {
          "base_uri": "https://localhost:8080/"
        },
        "id": "hk_PsnAB2zPC",
        "outputId": "a9d2e952-3d11-4d3d-e232-47f65c5ba43b"
      },
      "execution_count": 18,
      "outputs": [
        {
          "output_type": "execute_result",
          "data": {
            "text/plain": [
              "(TensorShape([64, 15]), TensorShape([64, 11]))"
            ]
          },
          "metadata": {},
          "execution_count": 18
        }
      ]
    },
    {
      "cell_type": "code",
      "source": [
        "class Encoder(tf.keras.Model):\n",
        "  def __init__(self, vocab_size, embedding_dim, enc_units, batch_sz):\n",
        "    super(Encoder, self).__init__()\n",
        "    self.batch_sz = batch_sz\n",
        "    self.enc_units = enc_units\n",
        "    self.embedding = tf.keras.layers.Embedding(vocab_size, embedding_dim)\n",
        "    self.gru = tf.keras.layers.GRU(self.enc_units,\n",
        "                                   return_sequences=False,\n",
        "                                   return_state=True,\n",
        "                                   recurrent_initializer='glorot_uniform')\n",
        "\n",
        "\n",
        "  def call(self, x, hidden):\n",
        "    x = self.embedding(x)\n",
        "    output, state = self.gru(x, initial_state = hidden)\n",
        "    return state\n",
        "\n",
        "  def initialize_hidden_state(self):\n",
        "    return tf.zeros((self.batch_sz, self.enc_units))"
      ],
      "metadata": {
        "id": "GEav2tm-25bX"
      },
      "execution_count": 19,
      "outputs": []
    },
    {
      "cell_type": "code",
      "source": [
        "encoder = Encoder(vocab_inp_size, embedding_dim, units, BATCH_SIZE)\n",
        "\n",
        "# sample input\n",
        "sample_hidden = encoder.initialize_hidden_state()\n",
        "sample_hidden = encoder(example_input_batch, sample_hidden)\n",
        "# print ('Encoder output shape: (batch size, sequence length, units) {}'.format(sample_output.shape))\n",
        "print ('Encoder Hidden state shape: (batch size, units) {}'.format(sample_hidden.shape))"
      ],
      "metadata": {
        "colab": {
          "base_uri": "https://localhost:8080/"
        },
        "id": "IsYO-4N73Wu6",
        "outputId": "a7e0c32e-f7c2-4472-daad-e4653b25e688"
      },
      "execution_count": 20,
      "outputs": [
        {
          "output_type": "stream",
          "name": "stdout",
          "text": [
            "Encoder Hidden state shape: (batch size, units) (64, 1024)\n"
          ]
        }
      ]
    },
    {
      "cell_type": "code",
      "source": [
        "class Decoder(tf.keras.Model):\n",
        "  def __init__(self, vocab_size, embedding_dim, dec_units, batch_sz):\n",
        "    super(Decoder, self).__init__()\n",
        "    self.batch_sz = batch_sz\n",
        "    self.dec_units = dec_units\n",
        "    self.embedding = tf.keras.layers.Embedding(vocab_size, embedding_dim)\n",
        "    self.gru = tf.keras.layers.GRU(self.dec_units,\n",
        "                                   return_sequences=True,\n",
        "                                   return_state=True,\n",
        "                                   recurrent_initializer='glorot_uniform')\n",
        "    self.fc = tf.keras.layers.Dense(vocab_size)\n",
        "\n",
        "  def call(self, x, hidden):\n",
        "    # enc_output shape == (batch_size, max_length, hidden_size)\n",
        "\n",
        "    # x shape after passing through embedding == (batch_size, 1, embedding_dim)\n",
        "    x = self.embedding(x)\n",
        "\n",
        "    # x shape after concatenation == (batch_size, 1, embedding_dim + hidden_size)\n",
        "\n",
        "    # passing the concatenated vector to the GRU\n",
        "    output, state = self.gru(x, initial_state=hidden)\n",
        "\n",
        "    # output shape == (batch_size * 1, hidden_size)\n",
        "    output = tf.reshape(output, (-1, output.shape[2]))\n",
        "\n",
        "    # output shape == (batch_size, vocab)\n",
        "    x = self.fc(output)\n",
        "\n",
        "    return x, state"
      ],
      "metadata": {
        "id": "wXfIIp4G3XOy"
      },
      "execution_count": 21,
      "outputs": []
    },
    {
      "cell_type": "code",
      "source": [
        "decoder = Decoder(vocab_tar_size, embedding_dim, units, BATCH_SIZE)\n",
        "\n",
        "decoder_sample_x, decoder_sample_h = decoder(tf.random.uniform((BATCH_SIZE, 1)),\n",
        "                                      sample_hidden)\n",
        "\n"
      ],
      "metadata": {
        "id": "3dDPE6Vf3ttN"
      },
      "execution_count": 22,
      "outputs": []
    },
    {
      "cell_type": "code",
      "source": [
        "decoder_sample_x.shape"
      ],
      "metadata": {
        "colab": {
          "base_uri": "https://localhost:8080/"
        },
        "id": "jhsar5r_3xI9",
        "outputId": "a9164050-3a77-4da1-df16-88543dc454e3"
      },
      "execution_count": 23,
      "outputs": [
        {
          "output_type": "execute_result",
          "data": {
            "text/plain": [
              "TensorShape([64, 7386])"
            ]
          },
          "metadata": {},
          "execution_count": 23
        }
      ]
    },
    {
      "cell_type": "code",
      "source": [
        "decoder_sample_h.shape"
      ],
      "metadata": {
        "colab": {
          "base_uri": "https://localhost:8080/"
        },
        "id": "H70-n4tV33P2",
        "outputId": "f76dc470-2887-45ad-8cdf-0a0d5617506a"
      },
      "execution_count": 24,
      "outputs": [
        {
          "output_type": "execute_result",
          "data": {
            "text/plain": [
              "TensorShape([64, 1024])"
            ]
          },
          "metadata": {},
          "execution_count": 24
        }
      ]
    },
    {
      "cell_type": "markdown",
      "source": [
        "## Define the optimizer and the loss function"
      ],
      "metadata": {
        "id": "DRIq9CcH3_NL"
      }
    },
    {
      "cell_type": "code",
      "source": [
        "optimizer = tf.keras.optimizers.Adam()\n",
        "\n",
        "loss_object = tf.keras.losses.SparseCategoricalCrossentropy(\n",
        "    from_logits=True, reduction='none')\n",
        "\n",
        "def loss_function(real, pred):\n",
        "  mask = tf.math.logical_not(tf.math.equal(real, 0))\n",
        "  loss_ = loss_object(real, pred)\n",
        "\n",
        "  mask = tf.cast(mask, dtype=loss_.dtype) #Casts a tensor to a new type.\n",
        "  loss_ *= mask\n",
        "\n",
        "  return tf.reduce_mean(loss_)"
      ],
      "metadata": {
        "id": "yX2kozLz35HD"
      },
      "execution_count": 25,
      "outputs": []
    },
    {
      "cell_type": "markdown",
      "source": [
        "## Checkpoints (Object-based saving)"
      ],
      "metadata": {
        "id": "EFAYo0AG4obY"
      }
    },
    {
      "cell_type": "code",
      "source": [
        "checkpoint_dir = './training_nmt_checkpoints'\n",
        "\n",
        "checkpoint_prefix = os.path.join(checkpoint_dir, \"ckpt\")\n",
        "\n",
        "checkpoint = tf.train.Checkpoint(optimizer=optimizer,\n",
        "                                 encoder=encoder,\n",
        "                                 decoder=decoder)"
      ],
      "metadata": {
        "id": "bLAN6jp24kiw"
      },
      "execution_count": 26,
      "outputs": []
    },
    {
      "cell_type": "code",
      "source": [
        "@tf.function\n",
        "def train_step(inp, targ, enc_hidden):\n",
        "  loss = 0\n",
        "\n",
        "  with tf.GradientTape() as tape: #Record operations for automatic differentiation.\n",
        "    enc_hidden = encoder(inp, enc_hidden)\n",
        "\n",
        "    dec_hidden = enc_hidden\n",
        "\n",
        "    dec_input = tf.expand_dims([targ_lang.word_index['<start>']] * BATCH_SIZE, 1)\n",
        "\n",
        "    # Teacher forcing - feeding the target as the next input\n",
        "    for t in range(1, targ.shape[1]):\n",
        "      # passing enc_output to the decoder\n",
        "      predictions, dec_hidden = decoder(dec_input, dec_hidden)\n",
        "\n",
        "      loss += loss_function(targ[:, t], predictions)\n",
        "\n",
        "      # using teacher forcing\n",
        "      dec_input = tf.expand_dims(targ[:, t], 1)\n",
        "\n",
        "  batch_loss = (loss / int(targ.shape[1]))\n",
        "\n",
        "  variables = encoder.trainable_variables + decoder.trainable_variables\n",
        "\n",
        "  gradients = tape.gradient(loss, variables)\n",
        "\n",
        "  optimizer.apply_gradients(zip(gradients, variables))\n",
        "\n",
        "  return batch_loss"
      ],
      "metadata": {
        "id": "G2Xs3Rn94yi2"
      },
      "execution_count": 27,
      "outputs": []
    },
    {
      "cell_type": "code",
      "source": [
        "EPOCHS = 50\n",
        "\n",
        "for epoch in range(EPOCHS):\n",
        "  start = time.time()\n",
        "\n",
        "  enc_hidden = encoder.initialize_hidden_state()\n",
        "  total_loss = 0\n",
        "\n",
        "  for (batch, (inp, targ)) in enumerate(dataset.take(steps_per_epoch)):\n",
        "    batch_loss = train_step(inp, targ, enc_hidden)\n",
        "    total_loss += batch_loss\n",
        "\n",
        "    if batch % 100 == 0:\n",
        "      print('Epoch {} Batch {} Loss {:.4f}'.format(epoch + 1,\n",
        "                                                   batch,\n",
        "                                                   batch_loss.numpy()))\n",
        "  # saving (checkpoint) the model every 2 epochs\n",
        "  if (epoch + 1) % 2 == 0:\n",
        "    checkpoint.save(file_prefix = checkpoint_prefix)\n",
        "\n",
        "  print('Epoch {} Loss {:.4f}'.format(epoch + 1,\n",
        "                                      total_loss / steps_per_epoch))\n",
        "  print('Time taken for 1 epoch {} sec\\n'.format(time.time() - start))"
      ],
      "metadata": {
        "colab": {
          "base_uri": "https://localhost:8080/"
        },
        "id": "aDaDJ5Mm5eA-",
        "outputId": "741ee815-3b8a-4835-ba6e-fb28490b66de"
      },
      "execution_count": 28,
      "outputs": [
        {
          "output_type": "stream",
          "name": "stdout",
          "text": [
            "Epoch 1 Batch 0 Loss 4.6431\n",
            "Epoch 1 Batch 100 Loss 2.0597\n",
            "Epoch 1 Batch 200 Loss 1.8640\n",
            "Epoch 1 Batch 300 Loss 1.6517\n",
            "Epoch 1 Batch 400 Loss 1.6164\n",
            "Epoch 1 Batch 500 Loss 1.4229\n",
            "Epoch 1 Batch 600 Loss 1.3216\n",
            "Epoch 1 Batch 700 Loss 1.3560\n",
            "Epoch 1 Batch 800 Loss 1.1933\n",
            "Epoch 1 Batch 900 Loss 1.1671\n",
            "Epoch 1 Batch 1000 Loss 1.1245\n",
            "Epoch 1 Batch 1100 Loss 1.0623\n",
            "Epoch 1 Batch 1200 Loss 1.0067\n",
            "Epoch 1 Loss 1.4499\n",
            "Time taken for 1 epoch 78.96231818199158 sec\n",
            "\n",
            "Epoch 2 Batch 0 Loss 0.9877\n",
            "Epoch 2 Batch 100 Loss 0.9328\n",
            "Epoch 2 Batch 200 Loss 0.8604\n",
            "Epoch 2 Batch 300 Loss 0.7798\n",
            "Epoch 2 Batch 400 Loss 0.7936\n",
            "Epoch 2 Batch 500 Loss 0.6993\n",
            "Epoch 2 Batch 600 Loss 0.6621\n",
            "Epoch 2 Batch 700 Loss 0.6732\n",
            "Epoch 2 Batch 800 Loss 0.7486\n",
            "Epoch 2 Batch 900 Loss 0.7281\n",
            "Epoch 2 Batch 1000 Loss 0.6367\n",
            "Epoch 2 Batch 1100 Loss 0.6771\n",
            "Epoch 2 Batch 1200 Loss 0.6556\n",
            "Epoch 2 Loss 0.7298\n",
            "Time taken for 1 epoch 54.58361625671387 sec\n",
            "\n",
            "Epoch 3 Batch 0 Loss 0.3306\n",
            "Epoch 3 Batch 100 Loss 0.4559\n",
            "Epoch 3 Batch 200 Loss 0.4176\n",
            "Epoch 3 Batch 300 Loss 0.4932\n",
            "Epoch 3 Batch 400 Loss 0.3005\n",
            "Epoch 3 Batch 500 Loss 0.4089\n",
            "Epoch 3 Batch 600 Loss 0.3715\n",
            "Epoch 3 Batch 700 Loss 0.4515\n",
            "Epoch 3 Batch 800 Loss 0.4334\n",
            "Epoch 3 Batch 900 Loss 0.3783\n",
            "Epoch 3 Batch 1000 Loss 0.3539\n",
            "Epoch 3 Batch 1100 Loss 0.3282\n",
            "Epoch 3 Batch 1200 Loss 0.3868\n",
            "Epoch 3 Loss 0.3928\n",
            "Time taken for 1 epoch 53.94243288040161 sec\n",
            "\n",
            "Epoch 4 Batch 0 Loss 0.1706\n",
            "Epoch 4 Batch 100 Loss 0.2516\n",
            "Epoch 4 Batch 200 Loss 0.2159\n",
            "Epoch 4 Batch 300 Loss 0.2335\n",
            "Epoch 4 Batch 400 Loss 0.2346\n",
            "Epoch 4 Batch 500 Loss 0.2575\n",
            "Epoch 4 Batch 600 Loss 0.2693\n",
            "Epoch 4 Batch 700 Loss 0.2561\n",
            "Epoch 4 Batch 800 Loss 0.2451\n",
            "Epoch 4 Batch 900 Loss 0.2070\n",
            "Epoch 4 Batch 1000 Loss 0.2752\n",
            "Epoch 4 Batch 1100 Loss 0.2490\n",
            "Epoch 4 Batch 1200 Loss 0.2337\n",
            "Epoch 4 Loss 0.2326\n",
            "Time taken for 1 epoch 54.30756449699402 sec\n",
            "\n",
            "Epoch 5 Batch 0 Loss 0.1583\n",
            "Epoch 5 Batch 100 Loss 0.1217\n",
            "Epoch 5 Batch 200 Loss 0.1255\n",
            "Epoch 5 Batch 300 Loss 0.1682\n",
            "Epoch 5 Batch 400 Loss 0.1678\n",
            "Epoch 5 Batch 500 Loss 0.1559\n",
            "Epoch 5 Batch 600 Loss 0.1201\n",
            "Epoch 5 Batch 700 Loss 0.1844\n",
            "Epoch 5 Batch 800 Loss 0.1488\n",
            "Epoch 5 Batch 900 Loss 0.1907\n",
            "Epoch 5 Batch 1000 Loss 0.1336\n",
            "Epoch 5 Batch 1100 Loss 0.2137\n",
            "Epoch 5 Batch 1200 Loss 0.1425\n",
            "Epoch 5 Loss 0.1573\n",
            "Time taken for 1 epoch 53.162049770355225 sec\n",
            "\n",
            "Epoch 6 Batch 0 Loss 0.0884\n",
            "Epoch 6 Batch 100 Loss 0.1142\n",
            "Epoch 6 Batch 200 Loss 0.0950\n",
            "Epoch 6 Batch 300 Loss 0.0980\n",
            "Epoch 6 Batch 400 Loss 0.1287\n",
            "Epoch 6 Batch 500 Loss 0.1118\n",
            "Epoch 6 Batch 600 Loss 0.0830\n",
            "Epoch 6 Batch 700 Loss 0.1468\n",
            "Epoch 6 Batch 800 Loss 0.1424\n",
            "Epoch 6 Batch 900 Loss 0.1264\n",
            "Epoch 6 Batch 1000 Loss 0.1597\n",
            "Epoch 6 Batch 1100 Loss 0.1585\n",
            "Epoch 6 Batch 1200 Loss 0.1089\n",
            "Epoch 6 Loss 0.1214\n",
            "Time taken for 1 epoch 56.10926389694214 sec\n",
            "\n",
            "Epoch 7 Batch 0 Loss 0.0992\n",
            "Epoch 7 Batch 100 Loss 0.0906\n",
            "Epoch 7 Batch 200 Loss 0.1259\n",
            "Epoch 7 Batch 300 Loss 0.1062\n",
            "Epoch 7 Batch 400 Loss 0.0630\n",
            "Epoch 7 Batch 500 Loss 0.1123\n",
            "Epoch 7 Batch 600 Loss 0.0908\n",
            "Epoch 7 Batch 700 Loss 0.1406\n",
            "Epoch 7 Batch 800 Loss 0.0914\n",
            "Epoch 7 Batch 900 Loss 0.1183\n",
            "Epoch 7 Batch 1000 Loss 0.1087\n",
            "Epoch 7 Batch 1100 Loss 0.1040\n",
            "Epoch 7 Batch 1200 Loss 0.1437\n",
            "Epoch 7 Loss 0.1022\n",
            "Time taken for 1 epoch 53.09498119354248 sec\n",
            "\n",
            "Epoch 8 Batch 0 Loss 0.0579\n",
            "Epoch 8 Batch 100 Loss 0.1153\n",
            "Epoch 8 Batch 200 Loss 0.0767\n",
            "Epoch 8 Batch 300 Loss 0.0579\n",
            "Epoch 8 Batch 400 Loss 0.0794\n",
            "Epoch 8 Batch 500 Loss 0.0767\n",
            "Epoch 8 Batch 600 Loss 0.0934\n",
            "Epoch 8 Batch 700 Loss 0.0819\n",
            "Epoch 8 Batch 800 Loss 0.0820\n",
            "Epoch 8 Batch 900 Loss 0.1129\n",
            "Epoch 8 Batch 1000 Loss 0.0876\n",
            "Epoch 8 Batch 1100 Loss 0.1543\n",
            "Epoch 8 Batch 1200 Loss 0.1244\n",
            "Epoch 8 Loss 0.0927\n",
            "Time taken for 1 epoch 54.84564518928528 sec\n",
            "\n",
            "Epoch 9 Batch 0 Loss 0.0774\n",
            "Epoch 9 Batch 100 Loss 0.0796\n",
            "Epoch 9 Batch 200 Loss 0.0964\n",
            "Epoch 9 Batch 300 Loss 0.0507\n",
            "Epoch 9 Batch 400 Loss 0.0601\n",
            "Epoch 9 Batch 500 Loss 0.0540\n",
            "Epoch 9 Batch 600 Loss 0.0785\n",
            "Epoch 9 Batch 700 Loss 0.0925\n",
            "Epoch 9 Batch 800 Loss 0.0683\n",
            "Epoch 9 Batch 900 Loss 0.0679\n",
            "Epoch 9 Batch 1000 Loss 0.0915\n",
            "Epoch 9 Batch 1100 Loss 0.0888\n",
            "Epoch 9 Batch 1200 Loss 0.0825\n",
            "Epoch 9 Loss 0.0863\n",
            "Time taken for 1 epoch 53.066974401474 sec\n",
            "\n",
            "Epoch 10 Batch 0 Loss 0.0969\n",
            "Epoch 10 Batch 100 Loss 0.0861\n",
            "Epoch 10 Batch 200 Loss 0.0862\n",
            "Epoch 10 Batch 300 Loss 0.0853\n",
            "Epoch 10 Batch 400 Loss 0.0681\n",
            "Epoch 10 Batch 500 Loss 0.0664\n",
            "Epoch 10 Batch 600 Loss 0.0838\n",
            "Epoch 10 Batch 700 Loss 0.0898\n",
            "Epoch 10 Batch 800 Loss 0.1195\n",
            "Epoch 10 Batch 900 Loss 0.1070\n",
            "Epoch 10 Batch 1000 Loss 0.1254\n",
            "Epoch 10 Batch 1100 Loss 0.0646\n",
            "Epoch 10 Batch 1200 Loss 0.1303\n",
            "Epoch 10 Loss 0.0824\n",
            "Time taken for 1 epoch 53.8434202671051 sec\n",
            "\n",
            "Epoch 11 Batch 0 Loss 0.0663\n",
            "Epoch 11 Batch 100 Loss 0.0364\n",
            "Epoch 11 Batch 200 Loss 0.0592\n",
            "Epoch 11 Batch 300 Loss 0.0766\n",
            "Epoch 11 Batch 400 Loss 0.0514\n",
            "Epoch 11 Batch 500 Loss 0.0556\n",
            "Epoch 11 Batch 600 Loss 0.0747\n",
            "Epoch 11 Batch 700 Loss 0.1084\n",
            "Epoch 11 Batch 800 Loss 0.0556\n",
            "Epoch 11 Batch 900 Loss 0.1096\n",
            "Epoch 11 Batch 1000 Loss 0.0980\n",
            "Epoch 11 Batch 1100 Loss 0.1374\n",
            "Epoch 11 Batch 1200 Loss 0.1057\n",
            "Epoch 11 Loss 0.0788\n",
            "Time taken for 1 epoch 52.98846220970154 sec\n",
            "\n",
            "Epoch 12 Batch 0 Loss 0.0586\n",
            "Epoch 12 Batch 100 Loss 0.0488\n",
            "Epoch 12 Batch 200 Loss 0.0617\n",
            "Epoch 12 Batch 300 Loss 0.0522\n",
            "Epoch 12 Batch 400 Loss 0.0618\n",
            "Epoch 12 Batch 500 Loss 0.0946\n",
            "Epoch 12 Batch 600 Loss 0.0761\n",
            "Epoch 12 Batch 700 Loss 0.0810\n",
            "Epoch 12 Batch 800 Loss 0.1062\n",
            "Epoch 12 Batch 900 Loss 0.0720\n",
            "Epoch 12 Batch 1000 Loss 0.0883\n",
            "Epoch 12 Batch 1100 Loss 0.1141\n",
            "Epoch 12 Batch 1200 Loss 0.0878\n",
            "Epoch 12 Loss 0.0762\n",
            "Time taken for 1 epoch 58.884289264678955 sec\n",
            "\n",
            "Epoch 13 Batch 0 Loss 0.0353\n",
            "Epoch 13 Batch 100 Loss 0.0535\n",
            "Epoch 13 Batch 200 Loss 0.0541\n",
            "Epoch 13 Batch 300 Loss 0.0808\n",
            "Epoch 13 Batch 400 Loss 0.0411\n",
            "Epoch 13 Batch 500 Loss 0.0703\n",
            "Epoch 13 Batch 600 Loss 0.0917\n",
            "Epoch 13 Batch 700 Loss 0.0747\n",
            "Epoch 13 Batch 800 Loss 0.0760\n",
            "Epoch 13 Batch 900 Loss 0.0783\n",
            "Epoch 13 Batch 1000 Loss 0.0700\n",
            "Epoch 13 Batch 1100 Loss 0.0911\n",
            "Epoch 13 Batch 1200 Loss 0.0759\n",
            "Epoch 13 Loss 0.0738\n",
            "Time taken for 1 epoch 53.18832325935364 sec\n",
            "\n",
            "Epoch 14 Batch 0 Loss 0.0327\n",
            "Epoch 14 Batch 100 Loss 0.0352\n",
            "Epoch 14 Batch 200 Loss 0.0522\n",
            "Epoch 14 Batch 300 Loss 0.0662\n",
            "Epoch 14 Batch 400 Loss 0.0703\n",
            "Epoch 14 Batch 500 Loss 0.0562\n",
            "Epoch 14 Batch 600 Loss 0.1046\n",
            "Epoch 14 Batch 700 Loss 0.0696\n",
            "Epoch 14 Batch 800 Loss 0.0825\n",
            "Epoch 14 Batch 900 Loss 0.0826\n",
            "Epoch 14 Batch 1000 Loss 0.0914\n",
            "Epoch 14 Batch 1100 Loss 0.0812\n",
            "Epoch 14 Batch 1200 Loss 0.0801\n",
            "Epoch 14 Loss 0.0720\n",
            "Time taken for 1 epoch 58.86716890335083 sec\n",
            "\n",
            "Epoch 15 Batch 0 Loss 0.0694\n",
            "Epoch 15 Batch 100 Loss 0.0394\n",
            "Epoch 15 Batch 200 Loss 0.0525\n",
            "Epoch 15 Batch 300 Loss 0.0409\n",
            "Epoch 15 Batch 400 Loss 0.0518\n",
            "Epoch 15 Batch 500 Loss 0.0815\n",
            "Epoch 15 Batch 600 Loss 0.0608\n",
            "Epoch 15 Batch 700 Loss 0.0635\n",
            "Epoch 15 Batch 800 Loss 0.0995\n",
            "Epoch 15 Batch 900 Loss 0.0513\n",
            "Epoch 15 Batch 1000 Loss 0.0522\n",
            "Epoch 15 Batch 1100 Loss 0.1542\n",
            "Epoch 15 Batch 1200 Loss 0.0842\n",
            "Epoch 15 Loss 0.0697\n",
            "Time taken for 1 epoch 53.24746227264404 sec\n",
            "\n",
            "Epoch 16 Batch 0 Loss 0.0407\n",
            "Epoch 16 Batch 100 Loss 0.0412\n",
            "Epoch 16 Batch 200 Loss 0.0567\n",
            "Epoch 16 Batch 300 Loss 0.0453\n",
            "Epoch 16 Batch 400 Loss 0.0420\n",
            "Epoch 16 Batch 500 Loss 0.0925\n",
            "Epoch 16 Batch 600 Loss 0.0658\n",
            "Epoch 16 Batch 700 Loss 0.1080\n",
            "Epoch 16 Batch 800 Loss 0.0834\n",
            "Epoch 16 Batch 900 Loss 0.0830\n",
            "Epoch 16 Batch 1000 Loss 0.0612\n",
            "Epoch 16 Batch 1100 Loss 0.0548\n",
            "Epoch 16 Batch 1200 Loss 0.0718\n",
            "Epoch 16 Loss 0.0685\n",
            "Time taken for 1 epoch 58.87173533439636 sec\n",
            "\n",
            "Epoch 17 Batch 0 Loss 0.0350\n",
            "Epoch 17 Batch 100 Loss 0.1184\n",
            "Epoch 17 Batch 200 Loss 0.1082\n",
            "Epoch 17 Batch 300 Loss 0.1059\n",
            "Epoch 17 Batch 400 Loss 0.0518\n",
            "Epoch 17 Batch 500 Loss 0.0800\n",
            "Epoch 17 Batch 600 Loss 0.0593\n",
            "Epoch 17 Batch 700 Loss 0.1003\n",
            "Epoch 17 Batch 800 Loss 0.1032\n",
            "Epoch 17 Batch 900 Loss 0.0950\n",
            "Epoch 17 Batch 1000 Loss 0.0862\n",
            "Epoch 17 Batch 1100 Loss 0.0820\n",
            "Epoch 17 Batch 1200 Loss 0.0817\n",
            "Epoch 17 Loss 0.0678\n",
            "Time taken for 1 epoch 53.24835824966431 sec\n",
            "\n",
            "Epoch 18 Batch 0 Loss 0.0555\n",
            "Epoch 18 Batch 100 Loss 0.0851\n",
            "Epoch 18 Batch 200 Loss 0.0638\n",
            "Epoch 18 Batch 300 Loss 0.0614\n",
            "Epoch 18 Batch 400 Loss 0.0711\n",
            "Epoch 18 Batch 500 Loss 0.0424\n",
            "Epoch 18 Batch 600 Loss 0.0782\n",
            "Epoch 18 Batch 700 Loss 0.1131\n",
            "Epoch 18 Batch 800 Loss 0.0679\n",
            "Epoch 18 Batch 900 Loss 0.0556\n",
            "Epoch 18 Batch 1000 Loss 0.0594\n",
            "Epoch 18 Batch 1100 Loss 0.0938\n",
            "Epoch 18 Batch 1200 Loss 0.0530\n",
            "Epoch 18 Loss 0.0665\n",
            "Time taken for 1 epoch 54.26705765724182 sec\n",
            "\n",
            "Epoch 19 Batch 0 Loss 0.0607\n",
            "Epoch 19 Batch 100 Loss 0.0616\n",
            "Epoch 19 Batch 200 Loss 0.0403\n",
            "Epoch 19 Batch 300 Loss 0.0263\n",
            "Epoch 19 Batch 400 Loss 0.0746\n",
            "Epoch 19 Batch 500 Loss 0.0395\n",
            "Epoch 19 Batch 600 Loss 0.0629\n",
            "Epoch 19 Batch 700 Loss 0.0628\n",
            "Epoch 19 Batch 800 Loss 0.0363\n",
            "Epoch 19 Batch 900 Loss 0.0892\n",
            "Epoch 19 Batch 1000 Loss 0.0397\n",
            "Epoch 19 Batch 1100 Loss 0.1003\n",
            "Epoch 19 Batch 1200 Loss 0.0706\n",
            "Epoch 19 Loss 0.0651\n",
            "Time taken for 1 epoch 53.224114656448364 sec\n",
            "\n",
            "Epoch 20 Batch 0 Loss 0.0556\n",
            "Epoch 20 Batch 100 Loss 0.0432\n",
            "Epoch 20 Batch 200 Loss 0.0291\n",
            "Epoch 20 Batch 300 Loss 0.0405\n",
            "Epoch 20 Batch 400 Loss 0.0945\n",
            "Epoch 20 Batch 500 Loss 0.0798\n",
            "Epoch 20 Batch 600 Loss 0.0614\n",
            "Epoch 20 Batch 700 Loss 0.0793\n",
            "Epoch 20 Batch 800 Loss 0.0750\n",
            "Epoch 20 Batch 900 Loss 0.0453\n",
            "Epoch 20 Batch 1000 Loss 0.0892\n",
            "Epoch 20 Batch 1100 Loss 0.0558\n",
            "Epoch 20 Batch 1200 Loss 0.0776\n",
            "Epoch 20 Loss 0.0634\n",
            "Time taken for 1 epoch 57.38459825515747 sec\n",
            "\n",
            "Epoch 21 Batch 0 Loss 0.0849\n",
            "Epoch 21 Batch 100 Loss 0.0326\n",
            "Epoch 21 Batch 200 Loss 0.0560\n",
            "Epoch 21 Batch 300 Loss 0.0363\n",
            "Epoch 21 Batch 400 Loss 0.0624\n",
            "Epoch 21 Batch 500 Loss 0.0507\n",
            "Epoch 21 Batch 600 Loss 0.0849\n",
            "Epoch 21 Batch 700 Loss 0.0776\n",
            "Epoch 21 Batch 800 Loss 0.0505\n",
            "Epoch 21 Batch 900 Loss 0.0922\n",
            "Epoch 21 Batch 1000 Loss 0.0315\n",
            "Epoch 21 Batch 1100 Loss 0.0834\n",
            "Epoch 21 Batch 1200 Loss 0.0994\n",
            "Epoch 21 Loss 0.0636\n",
            "Time taken for 1 epoch 53.10321569442749 sec\n",
            "\n",
            "Epoch 22 Batch 0 Loss 0.0743\n",
            "Epoch 22 Batch 100 Loss 0.0498\n",
            "Epoch 22 Batch 200 Loss 0.0742\n",
            "Epoch 22 Batch 300 Loss 0.0720\n",
            "Epoch 22 Batch 400 Loss 0.0418\n",
            "Epoch 22 Batch 500 Loss 0.0447\n",
            "Epoch 22 Batch 600 Loss 0.0772\n",
            "Epoch 22 Batch 700 Loss 0.0676\n",
            "Epoch 22 Batch 800 Loss 0.0616\n",
            "Epoch 22 Batch 900 Loss 0.0723\n",
            "Epoch 22 Batch 1000 Loss 0.0860\n",
            "Epoch 22 Batch 1100 Loss 0.0984\n",
            "Epoch 22 Batch 1200 Loss 0.0442\n",
            "Epoch 22 Loss 0.0628\n",
            "Time taken for 1 epoch 58.80070996284485 sec\n",
            "\n",
            "Epoch 23 Batch 0 Loss 0.0674\n",
            "Epoch 23 Batch 100 Loss 0.0583\n",
            "Epoch 23 Batch 200 Loss 0.0538\n",
            "Epoch 23 Batch 300 Loss 0.0421\n",
            "Epoch 23 Batch 400 Loss 0.0809\n",
            "Epoch 23 Batch 500 Loss 0.0765\n",
            "Epoch 23 Batch 600 Loss 0.0508\n",
            "Epoch 23 Batch 700 Loss 0.0900\n",
            "Epoch 23 Batch 800 Loss 0.0749\n",
            "Epoch 23 Batch 900 Loss 0.0619\n",
            "Epoch 23 Batch 1000 Loss 0.0902\n",
            "Epoch 23 Batch 1100 Loss 0.1040\n",
            "Epoch 23 Batch 1200 Loss 0.0956\n",
            "Epoch 23 Loss 0.0609\n",
            "Time taken for 1 epoch 53.22404193878174 sec\n",
            "\n",
            "Epoch 24 Batch 0 Loss 0.0718\n",
            "Epoch 24 Batch 100 Loss 0.0642\n",
            "Epoch 24 Batch 200 Loss 0.0328\n",
            "Epoch 24 Batch 300 Loss 0.0446\n",
            "Epoch 24 Batch 400 Loss 0.0805\n",
            "Epoch 24 Batch 500 Loss 0.0669\n",
            "Epoch 24 Batch 600 Loss 0.0719\n",
            "Epoch 24 Batch 700 Loss 0.0468\n",
            "Epoch 24 Batch 800 Loss 0.0541\n",
            "Epoch 24 Batch 900 Loss 0.0505\n",
            "Epoch 24 Batch 1000 Loss 0.0563\n",
            "Epoch 24 Batch 1100 Loss 0.1143\n",
            "Epoch 24 Batch 1200 Loss 0.0593\n",
            "Epoch 24 Loss 0.0602\n",
            "Time taken for 1 epoch 54.128190755844116 sec\n",
            "\n",
            "Epoch 25 Batch 0 Loss 0.0559\n",
            "Epoch 25 Batch 100 Loss 0.0836\n",
            "Epoch 25 Batch 200 Loss 0.0376\n",
            "Epoch 25 Batch 300 Loss 0.0376\n",
            "Epoch 25 Batch 400 Loss 0.0450\n",
            "Epoch 25 Batch 500 Loss 0.0688\n",
            "Epoch 25 Batch 600 Loss 0.1104\n",
            "Epoch 25 Batch 700 Loss 0.0496\n",
            "Epoch 25 Batch 800 Loss 0.0290\n",
            "Epoch 25 Batch 900 Loss 0.0701\n",
            "Epoch 25 Batch 1000 Loss 0.0935\n",
            "Epoch 25 Batch 1100 Loss 0.0540\n",
            "Epoch 25 Batch 1200 Loss 0.0779\n",
            "Epoch 25 Loss 0.0597\n",
            "Time taken for 1 epoch 53.149895429611206 sec\n",
            "\n",
            "Epoch 26 Batch 0 Loss 0.0335\n",
            "Epoch 26 Batch 100 Loss 0.0580\n",
            "Epoch 26 Batch 200 Loss 0.0720\n",
            "Epoch 26 Batch 300 Loss 0.0897\n",
            "Epoch 26 Batch 400 Loss 0.0545\n",
            "Epoch 26 Batch 500 Loss 0.0447\n",
            "Epoch 26 Batch 600 Loss 0.0666\n",
            "Epoch 26 Batch 700 Loss 0.0692\n",
            "Epoch 26 Batch 800 Loss 0.1058\n",
            "Epoch 26 Batch 900 Loss 0.0356\n",
            "Epoch 26 Batch 1000 Loss 0.0717\n",
            "Epoch 26 Batch 1100 Loss 0.0583\n",
            "Epoch 26 Batch 1200 Loss 0.0761\n",
            "Epoch 26 Loss 0.0594\n",
            "Time taken for 1 epoch 58.86080622673035 sec\n",
            "\n",
            "Epoch 27 Batch 0 Loss 0.0271\n",
            "Epoch 27 Batch 100 Loss 0.0395\n",
            "Epoch 27 Batch 200 Loss 0.0548\n",
            "Epoch 27 Batch 300 Loss 0.0925\n",
            "Epoch 27 Batch 400 Loss 0.0435\n",
            "Epoch 27 Batch 500 Loss 0.0709\n",
            "Epoch 27 Batch 600 Loss 0.0381\n",
            "Epoch 27 Batch 700 Loss 0.0614\n",
            "Epoch 27 Batch 800 Loss 0.0303\n",
            "Epoch 27 Batch 900 Loss 0.0631\n",
            "Epoch 27 Batch 1000 Loss 0.0403\n",
            "Epoch 27 Batch 1100 Loss 0.0836\n",
            "Epoch 27 Batch 1200 Loss 0.0738\n",
            "Epoch 27 Loss 0.0576\n",
            "Time taken for 1 epoch 53.27776098251343 sec\n",
            "\n",
            "Epoch 28 Batch 0 Loss 0.0304\n",
            "Epoch 28 Batch 100 Loss 0.0519\n",
            "Epoch 28 Batch 200 Loss 0.0542\n",
            "Epoch 28 Batch 300 Loss 0.0324\n",
            "Epoch 28 Batch 400 Loss 0.0535\n",
            "Epoch 28 Batch 500 Loss 0.0651\n",
            "Epoch 28 Batch 600 Loss 0.0639\n",
            "Epoch 28 Batch 700 Loss 0.0689\n",
            "Epoch 28 Batch 800 Loss 0.0453\n",
            "Epoch 28 Batch 900 Loss 0.0939\n",
            "Epoch 28 Batch 1000 Loss 0.0506\n",
            "Epoch 28 Batch 1100 Loss 0.0824\n",
            "Epoch 28 Batch 1200 Loss 0.0974\n",
            "Epoch 28 Loss 0.0570\n",
            "Time taken for 1 epoch 58.88061547279358 sec\n",
            "\n",
            "Epoch 29 Batch 0 Loss 0.0565\n",
            "Epoch 29 Batch 100 Loss 0.0288\n",
            "Epoch 29 Batch 200 Loss 0.0562\n",
            "Epoch 29 Batch 300 Loss 0.0726\n",
            "Epoch 29 Batch 400 Loss 0.0739\n",
            "Epoch 29 Batch 500 Loss 0.0956\n",
            "Epoch 29 Batch 600 Loss 0.0825\n",
            "Epoch 29 Batch 700 Loss 0.0505\n",
            "Epoch 29 Batch 800 Loss 0.0648\n",
            "Epoch 29 Batch 900 Loss 0.0427\n",
            "Epoch 29 Batch 1000 Loss 0.0545\n",
            "Epoch 29 Batch 1100 Loss 0.0793\n",
            "Epoch 29 Batch 1200 Loss 0.0467\n",
            "Epoch 29 Loss 0.0568\n",
            "Time taken for 1 epoch 53.134758710861206 sec\n",
            "\n",
            "Epoch 30 Batch 0 Loss 0.0305\n",
            "Epoch 30 Batch 100 Loss 0.0440\n",
            "Epoch 30 Batch 200 Loss 0.0495\n",
            "Epoch 30 Batch 300 Loss 0.0393\n",
            "Epoch 30 Batch 400 Loss 0.0386\n",
            "Epoch 30 Batch 500 Loss 0.0690\n",
            "Epoch 30 Batch 600 Loss 0.0362\n",
            "Epoch 30 Batch 700 Loss 0.0709\n",
            "Epoch 30 Batch 800 Loss 0.0712\n",
            "Epoch 30 Batch 900 Loss 0.0316\n",
            "Epoch 30 Batch 1000 Loss 0.0556\n",
            "Epoch 30 Batch 1100 Loss 0.0557\n",
            "Epoch 30 Batch 1200 Loss 0.0894\n",
            "Epoch 30 Loss 0.0558\n",
            "Time taken for 1 epoch 58.86249041557312 sec\n",
            "\n",
            "Epoch 31 Batch 0 Loss 0.0482\n",
            "Epoch 31 Batch 100 Loss 0.0299\n",
            "Epoch 31 Batch 200 Loss 0.0439\n",
            "Epoch 31 Batch 300 Loss 0.0669\n",
            "Epoch 31 Batch 400 Loss 0.0524\n",
            "Epoch 31 Batch 500 Loss 0.0488\n",
            "Epoch 31 Batch 600 Loss 0.0759\n",
            "Epoch 31 Batch 700 Loss 0.0376\n",
            "Epoch 31 Batch 800 Loss 0.0337\n",
            "Epoch 31 Batch 900 Loss 0.0576\n",
            "Epoch 31 Batch 1000 Loss 0.0358\n",
            "Epoch 31 Batch 1100 Loss 0.0381\n",
            "Epoch 31 Batch 1200 Loss 0.0669\n",
            "Epoch 31 Loss 0.0554\n",
            "Time taken for 1 epoch 53.367231130599976 sec\n",
            "\n",
            "Epoch 32 Batch 0 Loss 0.0884\n",
            "Epoch 32 Batch 100 Loss 0.0321\n",
            "Epoch 32 Batch 200 Loss 0.0652\n",
            "Epoch 32 Batch 300 Loss 0.0173\n",
            "Epoch 32 Batch 400 Loss 0.0699\n",
            "Epoch 32 Batch 500 Loss 0.0204\n",
            "Epoch 32 Batch 600 Loss 0.0512\n",
            "Epoch 32 Batch 700 Loss 0.0596\n",
            "Epoch 32 Batch 800 Loss 0.0430\n",
            "Epoch 32 Batch 900 Loss 0.0355\n",
            "Epoch 32 Batch 1000 Loss 0.0893\n",
            "Epoch 32 Batch 1100 Loss 0.0555\n",
            "Epoch 32 Batch 1200 Loss 0.0431\n",
            "Epoch 32 Loss 0.0539\n",
            "Time taken for 1 epoch 58.74219346046448 sec\n",
            "\n",
            "Epoch 33 Batch 0 Loss 0.0525\n",
            "Epoch 33 Batch 100 Loss 0.0906\n",
            "Epoch 33 Batch 200 Loss 0.0529\n",
            "Epoch 33 Batch 300 Loss 0.0352\n",
            "Epoch 33 Batch 400 Loss 0.0565\n",
            "Epoch 33 Batch 500 Loss 0.0337\n",
            "Epoch 33 Batch 600 Loss 0.0569\n",
            "Epoch 33 Batch 700 Loss 0.0640\n",
            "Epoch 33 Batch 800 Loss 0.0488\n",
            "Epoch 33 Batch 900 Loss 0.0694\n",
            "Epoch 33 Batch 1000 Loss 0.0793\n",
            "Epoch 33 Batch 1100 Loss 0.0519\n",
            "Epoch 33 Batch 1200 Loss 0.0692\n",
            "Epoch 33 Loss 0.0542\n",
            "Time taken for 1 epoch 53.26699948310852 sec\n",
            "\n",
            "Epoch 34 Batch 0 Loss 0.0576\n",
            "Epoch 34 Batch 100 Loss 0.0628\n",
            "Epoch 34 Batch 200 Loss 0.0413\n",
            "Epoch 34 Batch 300 Loss 0.0715\n",
            "Epoch 34 Batch 400 Loss 0.0608\n",
            "Epoch 34 Batch 500 Loss 0.0966\n",
            "Epoch 34 Batch 600 Loss 0.0514\n",
            "Epoch 34 Batch 700 Loss 0.0682\n",
            "Epoch 34 Batch 800 Loss 0.0461\n",
            "Epoch 34 Batch 900 Loss 0.1007\n",
            "Epoch 34 Batch 1000 Loss 0.0508\n",
            "Epoch 34 Batch 1100 Loss 0.0560\n",
            "Epoch 34 Batch 1200 Loss 0.0661\n",
            "Epoch 34 Loss 0.0536\n",
            "Time taken for 1 epoch 58.78597354888916 sec\n",
            "\n",
            "Epoch 35 Batch 0 Loss 0.0665\n",
            "Epoch 35 Batch 100 Loss 0.0561\n",
            "Epoch 35 Batch 200 Loss 0.0142\n",
            "Epoch 35 Batch 300 Loss 0.0392\n",
            "Epoch 35 Batch 400 Loss 0.0481\n",
            "Epoch 35 Batch 500 Loss 0.0265\n",
            "Epoch 35 Batch 600 Loss 0.0316\n",
            "Epoch 35 Batch 700 Loss 0.0665\n",
            "Epoch 35 Batch 800 Loss 0.0445\n",
            "Epoch 35 Batch 900 Loss 0.0646\n",
            "Epoch 35 Batch 1000 Loss 0.1051\n",
            "Epoch 35 Batch 1100 Loss 0.1050\n",
            "Epoch 35 Batch 1200 Loss 0.0636\n",
            "Epoch 35 Loss 0.0527\n",
            "Time taken for 1 epoch 53.14938926696777 sec\n",
            "\n",
            "Epoch 36 Batch 0 Loss 0.0343\n",
            "Epoch 36 Batch 100 Loss 0.0209\n",
            "Epoch 36 Batch 200 Loss 0.0403\n",
            "Epoch 36 Batch 300 Loss 0.0462\n",
            "Epoch 36 Batch 400 Loss 0.0288\n",
            "Epoch 36 Batch 500 Loss 0.0531\n",
            "Epoch 36 Batch 600 Loss 0.0945\n",
            "Epoch 36 Batch 700 Loss 0.0578\n",
            "Epoch 36 Batch 800 Loss 0.0640\n",
            "Epoch 36 Batch 900 Loss 0.0549\n",
            "Epoch 36 Batch 1000 Loss 0.0799\n",
            "Epoch 36 Batch 1100 Loss 0.0621\n",
            "Epoch 36 Batch 1200 Loss 0.0767\n",
            "Epoch 36 Loss 0.0525\n",
            "Time taken for 1 epoch 58.77383995056152 sec\n",
            "\n",
            "Epoch 37 Batch 0 Loss 0.0256\n",
            "Epoch 37 Batch 100 Loss 0.0530\n",
            "Epoch 37 Batch 200 Loss 0.0512\n",
            "Epoch 37 Batch 300 Loss 0.0432\n",
            "Epoch 37 Batch 400 Loss 0.0582\n",
            "Epoch 37 Batch 500 Loss 0.0538\n",
            "Epoch 37 Batch 600 Loss 0.0429\n",
            "Epoch 37 Batch 700 Loss 0.0852\n",
            "Epoch 37 Batch 800 Loss 0.0688\n",
            "Epoch 37 Batch 900 Loss 0.0667\n",
            "Epoch 37 Batch 1000 Loss 0.0533\n",
            "Epoch 37 Batch 1100 Loss 0.0443\n",
            "Epoch 37 Batch 1200 Loss 0.0571\n",
            "Epoch 37 Loss 0.0521\n",
            "Time taken for 1 epoch 53.17107939720154 sec\n",
            "\n",
            "Epoch 38 Batch 0 Loss 0.0372\n",
            "Epoch 38 Batch 100 Loss 0.0350\n",
            "Epoch 38 Batch 200 Loss 0.0264\n",
            "Epoch 38 Batch 300 Loss 0.0256\n",
            "Epoch 38 Batch 400 Loss 0.0418\n",
            "Epoch 38 Batch 500 Loss 0.0510\n",
            "Epoch 38 Batch 600 Loss 0.0733\n",
            "Epoch 38 Batch 700 Loss 0.0504\n",
            "Epoch 38 Batch 800 Loss 0.0604\n",
            "Epoch 38 Batch 900 Loss 0.0818\n",
            "Epoch 38 Batch 1000 Loss 0.0885\n",
            "Epoch 38 Batch 1100 Loss 0.0652\n",
            "Epoch 38 Batch 1200 Loss 0.0687\n",
            "Epoch 38 Loss 0.0509\n",
            "Time taken for 1 epoch 58.842888832092285 sec\n",
            "\n",
            "Epoch 39 Batch 0 Loss 0.0220\n",
            "Epoch 39 Batch 100 Loss 0.0360\n",
            "Epoch 39 Batch 200 Loss 0.0377\n",
            "Epoch 39 Batch 300 Loss 0.0479\n",
            "Epoch 39 Batch 400 Loss 0.0534\n",
            "Epoch 39 Batch 500 Loss 0.0380\n",
            "Epoch 39 Batch 600 Loss 0.0621\n",
            "Epoch 39 Batch 700 Loss 0.0472\n",
            "Epoch 39 Batch 800 Loss 0.0590\n",
            "Epoch 39 Batch 900 Loss 0.0596\n",
            "Epoch 39 Batch 1000 Loss 0.0526\n",
            "Epoch 39 Batch 1100 Loss 0.0407\n",
            "Epoch 39 Batch 1200 Loss 0.0510\n",
            "Epoch 39 Loss 0.0509\n",
            "Time taken for 1 epoch 53.21810030937195 sec\n",
            "\n",
            "Epoch 40 Batch 0 Loss 0.0588\n",
            "Epoch 40 Batch 100 Loss 0.0461\n",
            "Epoch 40 Batch 200 Loss 0.0637\n",
            "Epoch 40 Batch 300 Loss 0.0434\n",
            "Epoch 40 Batch 400 Loss 0.0471\n",
            "Epoch 40 Batch 500 Loss 0.0717\n",
            "Epoch 40 Batch 600 Loss 0.0771\n",
            "Epoch 40 Batch 700 Loss 0.1006\n",
            "Epoch 40 Batch 800 Loss 0.0871\n",
            "Epoch 40 Batch 900 Loss 0.0655\n",
            "Epoch 40 Batch 1000 Loss 0.0692\n",
            "Epoch 40 Batch 1100 Loss 0.0441\n",
            "Epoch 40 Batch 1200 Loss 0.0524\n",
            "Epoch 40 Loss 0.0512\n",
            "Time taken for 1 epoch 54.44747972488403 sec\n",
            "\n",
            "Epoch 41 Batch 0 Loss 0.0509\n",
            "Epoch 41 Batch 100 Loss 0.0401\n",
            "Epoch 41 Batch 200 Loss 0.0380\n",
            "Epoch 41 Batch 300 Loss 0.0596\n",
            "Epoch 41 Batch 400 Loss 0.0493\n",
            "Epoch 41 Batch 500 Loss 0.0481\n",
            "Epoch 41 Batch 600 Loss 0.0374\n",
            "Epoch 41 Batch 700 Loss 0.0829\n",
            "Epoch 41 Batch 800 Loss 0.0486\n",
            "Epoch 41 Batch 900 Loss 0.0292\n",
            "Epoch 41 Batch 1000 Loss 0.0504\n",
            "Epoch 41 Batch 1100 Loss 0.0536\n",
            "Epoch 41 Batch 1200 Loss 0.0475\n",
            "Epoch 41 Loss 0.0501\n",
            "Time taken for 1 epoch 52.99213933944702 sec\n",
            "\n",
            "Epoch 42 Batch 0 Loss 0.0765\n",
            "Epoch 42 Batch 100 Loss 0.0543\n",
            "Epoch 42 Batch 200 Loss 0.0414\n",
            "Epoch 42 Batch 300 Loss 0.0274\n",
            "Epoch 42 Batch 400 Loss 0.0734\n",
            "Epoch 42 Batch 500 Loss 0.0389\n",
            "Epoch 42 Batch 600 Loss 0.0698\n",
            "Epoch 42 Batch 700 Loss 0.0668\n",
            "Epoch 42 Batch 800 Loss 0.0904\n",
            "Epoch 42 Batch 900 Loss 0.0371\n",
            "Epoch 42 Batch 1000 Loss 0.0691\n",
            "Epoch 42 Batch 1100 Loss 0.0728\n",
            "Epoch 42 Batch 1200 Loss 0.0433\n",
            "Epoch 42 Loss 0.0496\n",
            "Time taken for 1 epoch 58.94965386390686 sec\n",
            "\n",
            "Epoch 43 Batch 0 Loss 0.0522\n",
            "Epoch 43 Batch 100 Loss 0.0740\n",
            "Epoch 43 Batch 200 Loss 0.0334\n",
            "Epoch 43 Batch 300 Loss 0.0261\n",
            "Epoch 43 Batch 400 Loss 0.0408\n",
            "Epoch 43 Batch 500 Loss 0.0669\n",
            "Epoch 43 Batch 600 Loss 0.0539\n",
            "Epoch 43 Batch 700 Loss 0.0691\n",
            "Epoch 43 Batch 800 Loss 0.0370\n",
            "Epoch 43 Batch 900 Loss 0.0693\n",
            "Epoch 43 Batch 1000 Loss 0.0704\n",
            "Epoch 43 Batch 1100 Loss 0.0437\n",
            "Epoch 43 Batch 1200 Loss 0.0360\n",
            "Epoch 43 Loss 0.0495\n",
            "Time taken for 1 epoch 53.1625075340271 sec\n",
            "\n",
            "Epoch 44 Batch 0 Loss 0.0712\n",
            "Epoch 44 Batch 100 Loss 0.0454\n",
            "Epoch 44 Batch 200 Loss 0.0305\n",
            "Epoch 44 Batch 300 Loss 0.0435\n",
            "Epoch 44 Batch 400 Loss 0.0406\n",
            "Epoch 44 Batch 500 Loss 0.0413\n",
            "Epoch 44 Batch 600 Loss 0.0573\n",
            "Epoch 44 Batch 700 Loss 0.0429\n",
            "Epoch 44 Batch 800 Loss 0.0487\n",
            "Epoch 44 Batch 900 Loss 0.0726\n",
            "Epoch 44 Batch 1000 Loss 0.0568\n",
            "Epoch 44 Batch 1100 Loss 0.0607\n",
            "Epoch 44 Batch 1200 Loss 0.0950\n",
            "Epoch 44 Loss 0.0492\n",
            "Time taken for 1 epoch 58.80832028388977 sec\n",
            "\n",
            "Epoch 45 Batch 0 Loss 0.0314\n",
            "Epoch 45 Batch 100 Loss 0.0628\n",
            "Epoch 45 Batch 200 Loss 0.0376\n",
            "Epoch 45 Batch 300 Loss 0.0370\n",
            "Epoch 45 Batch 400 Loss 0.0511\n",
            "Epoch 45 Batch 500 Loss 0.0455\n",
            "Epoch 45 Batch 600 Loss 0.0300\n",
            "Epoch 45 Batch 700 Loss 0.0364\n",
            "Epoch 45 Batch 800 Loss 0.0816\n",
            "Epoch 45 Batch 900 Loss 0.0483\n",
            "Epoch 45 Batch 1000 Loss 0.0509\n",
            "Epoch 45 Batch 1100 Loss 0.0646\n",
            "Epoch 45 Batch 1200 Loss 0.0823\n",
            "Epoch 45 Loss 0.0487\n",
            "Time taken for 1 epoch 53.123382568359375 sec\n",
            "\n",
            "Epoch 46 Batch 0 Loss 0.0519\n",
            "Epoch 46 Batch 100 Loss 0.0407\n",
            "Epoch 46 Batch 200 Loss 0.0718\n",
            "Epoch 46 Batch 300 Loss 0.0259\n",
            "Epoch 46 Batch 400 Loss 0.0374\n",
            "Epoch 46 Batch 500 Loss 0.0692\n",
            "Epoch 46 Batch 600 Loss 0.0829\n",
            "Epoch 46 Batch 700 Loss 0.0517\n",
            "Epoch 46 Batch 800 Loss 0.1034\n",
            "Epoch 46 Batch 900 Loss 0.0384\n",
            "Epoch 46 Batch 1000 Loss 0.0339\n",
            "Epoch 46 Batch 1100 Loss 0.0988\n",
            "Epoch 46 Batch 1200 Loss 0.0596\n",
            "Epoch 46 Loss 0.0487\n",
            "Time taken for 1 epoch 58.801631450653076 sec\n",
            "\n",
            "Epoch 47 Batch 0 Loss 0.0272\n",
            "Epoch 47 Batch 100 Loss 0.0393\n",
            "Epoch 47 Batch 200 Loss 0.0296\n",
            "Epoch 47 Batch 300 Loss 0.0310\n",
            "Epoch 47 Batch 400 Loss 0.0597\n",
            "Epoch 47 Batch 500 Loss 0.0285\n",
            "Epoch 47 Batch 600 Loss 0.0547\n",
            "Epoch 47 Batch 700 Loss 0.0476\n",
            "Epoch 47 Batch 800 Loss 0.0415\n",
            "Epoch 47 Batch 900 Loss 0.0256\n",
            "Epoch 47 Batch 1000 Loss 0.0586\n",
            "Epoch 47 Batch 1100 Loss 0.0521\n",
            "Epoch 47 Batch 1200 Loss 0.0531\n",
            "Epoch 47 Loss 0.0478\n",
            "Time taken for 1 epoch 53.16539907455444 sec\n",
            "\n",
            "Epoch 48 Batch 0 Loss 0.0418\n",
            "Epoch 48 Batch 100 Loss 0.0136\n",
            "Epoch 48 Batch 200 Loss 0.0499\n",
            "Epoch 48 Batch 300 Loss 0.0388\n",
            "Epoch 48 Batch 400 Loss 0.0244\n",
            "Epoch 48 Batch 500 Loss 0.0276\n",
            "Epoch 48 Batch 600 Loss 0.0709\n",
            "Epoch 48 Batch 700 Loss 0.0534\n",
            "Epoch 48 Batch 800 Loss 0.0624\n",
            "Epoch 48 Batch 900 Loss 0.0458\n",
            "Epoch 48 Batch 1000 Loss 0.0449\n",
            "Epoch 48 Batch 1100 Loss 0.0530\n",
            "Epoch 48 Batch 1200 Loss 0.0362\n",
            "Epoch 48 Loss 0.0478\n",
            "Time taken for 1 epoch 54.62084412574768 sec\n",
            "\n",
            "Epoch 49 Batch 0 Loss 0.0523\n",
            "Epoch 49 Batch 100 Loss 0.0225\n",
            "Epoch 49 Batch 200 Loss 0.0452\n",
            "Epoch 49 Batch 300 Loss 0.0452\n",
            "Epoch 49 Batch 400 Loss 0.0530\n",
            "Epoch 49 Batch 500 Loss 0.0446\n",
            "Epoch 49 Batch 600 Loss 0.0484\n",
            "Epoch 49 Batch 700 Loss 0.0393\n",
            "Epoch 49 Batch 800 Loss 0.0358\n",
            "Epoch 49 Batch 900 Loss 0.0160\n",
            "Epoch 49 Batch 1000 Loss 0.0423\n",
            "Epoch 49 Batch 1100 Loss 0.0489\n",
            "Epoch 49 Batch 1200 Loss 0.0454\n",
            "Epoch 49 Loss 0.0479\n",
            "Time taken for 1 epoch 53.03562045097351 sec\n",
            "\n",
            "Epoch 50 Batch 0 Loss 0.0435\n",
            "Epoch 50 Batch 100 Loss 0.0356\n",
            "Epoch 50 Batch 200 Loss 0.0408\n",
            "Epoch 50 Batch 300 Loss 0.0185\n",
            "Epoch 50 Batch 400 Loss 0.0507\n",
            "Epoch 50 Batch 500 Loss 0.0567\n",
            "Epoch 50 Batch 600 Loss 0.0517\n",
            "Epoch 50 Batch 700 Loss 0.0680\n",
            "Epoch 50 Batch 800 Loss 0.0171\n",
            "Epoch 50 Batch 900 Loss 0.0582\n",
            "Epoch 50 Batch 1000 Loss 0.0453\n",
            "Epoch 50 Batch 1100 Loss 0.0343\n",
            "Epoch 50 Batch 1200 Loss 0.0334\n",
            "Epoch 50 Loss 0.0474\n",
            "Time taken for 1 epoch 58.80969572067261 sec\n",
            "\n"
          ]
        }
      ]
    },
    {
      "cell_type": "markdown",
      "source": [
        "## Translate\n",
        "\n",
        "* The evaluate function is similar to the training loop, except we don't use *teacher forcing* here. The input to the decoder at each time step is its previous predictions along with the hidden state and the encoder output.\n",
        "* Stop predicting when the model predicts the *end token*.\n",
        "* And store the *attention weights for every time step*.\n",
        "\n",
        "Note: The encoder output is calculated only once for one input."
      ],
      "metadata": {
        "id": "yB971955EcXD"
      }
    },
    {
      "cell_type": "code",
      "source": [
        "def evaluate(sentence):\n",
        "  attention_plot = np.zeros((max_length_targ, max_length_inp))\n",
        "\n",
        "  sentence = preprocess_sentence(sentence)\n",
        "\n",
        "  inputs = [inp_lang.word_index[i] for i in sentence.split(' ')]\n",
        "  inputs = tf.keras.preprocessing.sequence.pad_sequences([inputs],\n",
        "                                                         maxlen=max_length_inp,\n",
        "                                                         padding='post')\n",
        "  inputs = tf.convert_to_tensor(inputs)\n",
        "\n",
        "  result = ''\n",
        "\n",
        "  hidden = [tf.zeros((1, units))]\n",
        "  enc_hidden = encoder(inputs, hidden)\n",
        "\n",
        "  dec_hidden = enc_hidden\n",
        "  dec_input = tf.expand_dims([targ_lang.word_index['<start>']], 0)\n",
        "\n",
        "  for t in range(max_length_targ):\n",
        "    predictions, dec_hidden = decoder(dec_input, dec_hidden)\n",
        "\n",
        "    # storing the attention weights to plot later on\n",
        "    predicted_id = tf.argmax(predictions[0]).numpy()\n",
        "    result += targ_lang.index_word[predicted_id] + ' '\n",
        "\n",
        "    if targ_lang.index_word[predicted_id] == '<end>':\n",
        "      return result, sentence\n",
        "\n",
        "    # the predicted ID is fed back into the model\n",
        "    dec_input = tf.expand_dims([predicted_id], 0)\n",
        "\n",
        "  return result, sentence"
      ],
      "metadata": {
        "id": "2BR9WimhEk1F"
      },
      "execution_count": 29,
      "outputs": []
    },
    {
      "cell_type": "code",
      "source": [
        "def translate(sentence):\n",
        "  result, sentence = evaluate(sentence)\n",
        "\n",
        "  print('Input: %s' % (sentence))\n",
        "  print('Predicted translation: {}'.format(result))"
      ],
      "metadata": {
        "id": "Yeqz1epmEr-n"
      },
      "execution_count": 30,
      "outputs": []
    },
    {
      "cell_type": "code",
      "source": [
        "# restoring the latest checkpoint in checkpoint_dir\n",
        "checkpoint.restore(tf.train.latest_checkpoint(checkpoint_dir))"
      ],
      "metadata": {
        "colab": {
          "base_uri": "https://localhost:8080/"
        },
        "id": "ah-91HvCEshy",
        "outputId": "4d13953a-0541-4bad-a0dc-db3c4a4d9471"
      },
      "execution_count": 31,
      "outputs": [
        {
          "output_type": "execute_result",
          "data": {
            "text/plain": [
              "<tensorflow.python.checkpoint.checkpoint.CheckpointLoadStatus at 0x7c13f2717bb0>"
            ]
          },
          "metadata": {},
          "execution_count": 31
        }
      ]
    },
    {
      "cell_type": "code",
      "source": [
        "translate('Привет, как дела?')"
      ],
      "metadata": {
        "colab": {
          "base_uri": "https://localhost:8080/"
        },
        "id": "2Sg6e95VE2Of",
        "outputId": "5645a157-c098-4dcc-b0e4-642584557514"
      },
      "execution_count": 32,
      "outputs": [
        {
          "output_type": "stream",
          "name": "stdout",
          "text": [
            "Input: <start> привет , как дела ? <end>\n",
            "Predicted translation: hi , how's it going ? <end> \n"
          ]
        }
      ]
    },
    {
      "cell_type": "code",
      "source": [
        "translate(u'Вы еще дома?')"
      ],
      "metadata": {
        "colab": {
          "base_uri": "https://localhost:8080/"
        },
        "id": "NLXeNH8-E8FY",
        "outputId": "0b366e6a-6245-40d8-ce52-588d1f3c3dd2"
      },
      "execution_count": 33,
      "outputs": [
        {
          "output_type": "stream",
          "name": "stdout",
          "text": [
            "Input: <start> вы еще дома ? <end>\n",
            "Predicted translation: are you still home ? <end> \n"
          ]
        }
      ]
    },
    {
      "cell_type": "code",
      "source": [
        "translate('Я на работе')"
      ],
      "metadata": {
        "colab": {
          "base_uri": "https://localhost:8080/"
        },
        "id": "2SbMPnYEFdbL",
        "outputId": "3247b908-42af-4e8c-8e62-0fa4af17d4cf"
      },
      "execution_count": 48,
      "outputs": [
        {
          "output_type": "stream",
          "name": "stdout",
          "text": [
            "Input: <start> я на работе <end>\n",
            "Predicted translation: i'm on work at . <end> \n"
          ]
        }
      ]
    },
    {
      "cell_type": "code",
      "source": [
        "translate('Я на работе, домой не поеду')"
      ],
      "metadata": {
        "colab": {
          "base_uri": "https://localhost:8080/"
        },
        "id": "gvq8gpY5Klba",
        "outputId": "6eb14390-9194-4f00-8000-d0f2c393c93c"
      },
      "execution_count": 49,
      "outputs": [
        {
          "output_type": "stream",
          "name": "stdout",
          "text": [
            "Input: <start> я на работе , домой не поеду <end>\n",
            "Predicted translation: i'm late to go home . <end> \n"
          ]
        }
      ]
    },
    {
      "cell_type": "code",
      "source": [
        "translate('Я на работе, домой не поеду. Сегодня был длинный день')"
      ],
      "metadata": {
        "colab": {
          "base_uri": "https://localhost:8080/"
        },
        "id": "fjLW2NwkGZpz",
        "outputId": "4a1b7ebc-4fca-4dd8-aa33-87d8024b0caa"
      },
      "execution_count": 50,
      "outputs": [
        {
          "output_type": "stream",
          "name": "stdout",
          "text": [
            "Input: <start> я на работе , домой не поеду . сегодня был длинный день <end>\n",
            "Predicted translation: i'm home nothing died . <end> \n"
          ]
        }
      ]
    },
    {
      "cell_type": "code",
      "source": [
        "translate('Лисица съела колобка') #очевидно что колобка в словаре нет"
      ],
      "metadata": {
        "colab": {
          "base_uri": "https://localhost:8080/",
          "height": 332
        },
        "id": "cSVougn0ReWi",
        "outputId": "d6f50d55-a58b-470b-cc50-b852d1b94dd3"
      },
      "execution_count": 51,
      "outputs": [
        {
          "output_type": "error",
          "ename": "KeyError",
          "evalue": "ignored",
          "traceback": [
            "\u001b[0;31m---------------------------------------------------------------------------\u001b[0m",
            "\u001b[0;31mKeyError\u001b[0m                                  Traceback (most recent call last)",
            "\u001b[0;32m<ipython-input-51-2fcfe43c2dfd>\u001b[0m in \u001b[0;36m<cell line: 1>\u001b[0;34m()\u001b[0m\n\u001b[0;32m----> 1\u001b[0;31m \u001b[0mtranslate\u001b[0m\u001b[0;34m(\u001b[0m\u001b[0;34m'Лисица съела колобка'\u001b[0m\u001b[0;34m)\u001b[0m\u001b[0;34m\u001b[0m\u001b[0;34m\u001b[0m\u001b[0m\n\u001b[0m",
            "\u001b[0;32m<ipython-input-30-d01480530bee>\u001b[0m in \u001b[0;36mtranslate\u001b[0;34m(sentence)\u001b[0m\n\u001b[1;32m      1\u001b[0m \u001b[0;32mdef\u001b[0m \u001b[0mtranslate\u001b[0m\u001b[0;34m(\u001b[0m\u001b[0msentence\u001b[0m\u001b[0;34m)\u001b[0m\u001b[0;34m:\u001b[0m\u001b[0;34m\u001b[0m\u001b[0;34m\u001b[0m\u001b[0m\n\u001b[0;32m----> 2\u001b[0;31m   \u001b[0mresult\u001b[0m\u001b[0;34m,\u001b[0m \u001b[0msentence\u001b[0m \u001b[0;34m=\u001b[0m \u001b[0mevaluate\u001b[0m\u001b[0;34m(\u001b[0m\u001b[0msentence\u001b[0m\u001b[0;34m)\u001b[0m\u001b[0;34m\u001b[0m\u001b[0;34m\u001b[0m\u001b[0m\n\u001b[0m\u001b[1;32m      3\u001b[0m \u001b[0;34m\u001b[0m\u001b[0m\n\u001b[1;32m      4\u001b[0m   \u001b[0mprint\u001b[0m\u001b[0;34m(\u001b[0m\u001b[0;34m'Input: %s'\u001b[0m \u001b[0;34m%\u001b[0m \u001b[0;34m(\u001b[0m\u001b[0msentence\u001b[0m\u001b[0;34m)\u001b[0m\u001b[0;34m)\u001b[0m\u001b[0;34m\u001b[0m\u001b[0;34m\u001b[0m\u001b[0m\n\u001b[1;32m      5\u001b[0m   \u001b[0mprint\u001b[0m\u001b[0;34m(\u001b[0m\u001b[0;34m'Predicted translation: {}'\u001b[0m\u001b[0;34m.\u001b[0m\u001b[0mformat\u001b[0m\u001b[0;34m(\u001b[0m\u001b[0mresult\u001b[0m\u001b[0;34m)\u001b[0m\u001b[0;34m)\u001b[0m\u001b[0;34m\u001b[0m\u001b[0;34m\u001b[0m\u001b[0m\n",
            "\u001b[0;32m<ipython-input-29-baaeed8448d5>\u001b[0m in \u001b[0;36mevaluate\u001b[0;34m(sentence)\u001b[0m\n\u001b[1;32m      4\u001b[0m   \u001b[0msentence\u001b[0m \u001b[0;34m=\u001b[0m \u001b[0mpreprocess_sentence\u001b[0m\u001b[0;34m(\u001b[0m\u001b[0msentence\u001b[0m\u001b[0;34m)\u001b[0m\u001b[0;34m\u001b[0m\u001b[0;34m\u001b[0m\u001b[0m\n\u001b[1;32m      5\u001b[0m \u001b[0;34m\u001b[0m\u001b[0m\n\u001b[0;32m----> 6\u001b[0;31m   \u001b[0minputs\u001b[0m \u001b[0;34m=\u001b[0m \u001b[0;34m[\u001b[0m\u001b[0minp_lang\u001b[0m\u001b[0;34m.\u001b[0m\u001b[0mword_index\u001b[0m\u001b[0;34m[\u001b[0m\u001b[0mi\u001b[0m\u001b[0;34m]\u001b[0m \u001b[0;32mfor\u001b[0m \u001b[0mi\u001b[0m \u001b[0;32min\u001b[0m \u001b[0msentence\u001b[0m\u001b[0;34m.\u001b[0m\u001b[0msplit\u001b[0m\u001b[0;34m(\u001b[0m\u001b[0;34m' '\u001b[0m\u001b[0;34m)\u001b[0m\u001b[0;34m]\u001b[0m\u001b[0;34m\u001b[0m\u001b[0;34m\u001b[0m\u001b[0m\n\u001b[0m\u001b[1;32m      7\u001b[0m   inputs = tf.keras.preprocessing.sequence.pad_sequences([inputs],\n\u001b[1;32m      8\u001b[0m                                                          \u001b[0mmaxlen\u001b[0m\u001b[0;34m=\u001b[0m\u001b[0mmax_length_inp\u001b[0m\u001b[0;34m,\u001b[0m\u001b[0;34m\u001b[0m\u001b[0;34m\u001b[0m\u001b[0m\n",
            "\u001b[0;32m<ipython-input-29-baaeed8448d5>\u001b[0m in \u001b[0;36m<listcomp>\u001b[0;34m(.0)\u001b[0m\n\u001b[1;32m      4\u001b[0m   \u001b[0msentence\u001b[0m \u001b[0;34m=\u001b[0m \u001b[0mpreprocess_sentence\u001b[0m\u001b[0;34m(\u001b[0m\u001b[0msentence\u001b[0m\u001b[0;34m)\u001b[0m\u001b[0;34m\u001b[0m\u001b[0;34m\u001b[0m\u001b[0m\n\u001b[1;32m      5\u001b[0m \u001b[0;34m\u001b[0m\u001b[0m\n\u001b[0;32m----> 6\u001b[0;31m   \u001b[0minputs\u001b[0m \u001b[0;34m=\u001b[0m \u001b[0;34m[\u001b[0m\u001b[0minp_lang\u001b[0m\u001b[0;34m.\u001b[0m\u001b[0mword_index\u001b[0m\u001b[0;34m[\u001b[0m\u001b[0mi\u001b[0m\u001b[0;34m]\u001b[0m \u001b[0;32mfor\u001b[0m \u001b[0mi\u001b[0m \u001b[0;32min\u001b[0m \u001b[0msentence\u001b[0m\u001b[0;34m.\u001b[0m\u001b[0msplit\u001b[0m\u001b[0;34m(\u001b[0m\u001b[0;34m' '\u001b[0m\u001b[0;34m)\u001b[0m\u001b[0;34m]\u001b[0m\u001b[0;34m\u001b[0m\u001b[0;34m\u001b[0m\u001b[0m\n\u001b[0m\u001b[1;32m      7\u001b[0m   inputs = tf.keras.preprocessing.sequence.pad_sequences([inputs],\n\u001b[1;32m      8\u001b[0m                                                          \u001b[0mmaxlen\u001b[0m\u001b[0;34m=\u001b[0m\u001b[0mmax_length_inp\u001b[0m\u001b[0;34m,\u001b[0m\u001b[0;34m\u001b[0m\u001b[0;34m\u001b[0m\u001b[0m\n",
            "\u001b[0;31mKeyError\u001b[0m: 'колобка'"
          ]
        }
      ]
    },
    {
      "cell_type": "markdown",
      "source": [
        "Одним из ключевых компонентов, который широко используется в архитектурах NMT, является механизм внимания, который позволяет модели фокусироваться на различных частях исходного предложения во время перевода. Однако были исследования, изучающие использование архитектур NMT без механизмов внимания. Рассмотрим преимущества и недостатки использования архитектуры NMT.\n",
        "\n",
        "Преимущества:\n",
        "\n",
        "1. Упрощенная архитектура. Одним из преимуществ использования архитектуры NMT без блока внимания является то, что это приводит к более простой структуре модели. Механизмы внимания усложняют модель, требуя дополнительных вычислений и параметров. Устранив внимание, общая модель становится более простой, ее легче обучать и развертывать. Эта простота может быть полезна в сценариях, где вычислительные ресурсы ограничены или при обучении крупномасштабных моделей.\n",
        "\n",
        "2. Более быстрый вывод. Еще одним преимуществом использования архитектуры NMT без внимания является то, что это может привести к сокращению времени вывода. Механизмы внимания обычно требуют дополнительных вычислений во время декодирования для вычисления оценок выравнивания между исходными и целевыми словами. Без внимания процесс декодирования становится более эффективным, поскольку исключает эти дополнительные вычисления. Это может быть особенно выгодно в сценариях перевода в реальном времени или в приложениях, где низкая задержка имеет решающее значение.\n",
        "\n",
        "3. Уменьшение чрезмерного перевода. Механизмы внимания в моделях NMT имеют тенденцию генерировать более плавный перевод, но также могут приводить к чрезмерному переводу, когда к переведенному предложению добавляется ненужная или избыточная информация. Устранив внимание, модель может создавать более краткие переводы, ориентированные на передачу основного значения исходного предложения. Это может быть полезно в определенных областях или приложениях, где предпочтительна краткость, например, в системах обобщения или чат-ботах.\n",
        "\n",
        "Недостатки:\n",
        "\n",
        "1. Ограниченное понимание контекста. Одним из основных недостатков использования архитектуры NMT без внимания является ограниченная способность захватывать долгосрочные зависимости и контекстную информацию. Механизмы внимания позволяют модели уделять внимание различным частям исходного предложения, что позволяет ей лучше понимать взаимосвязи между словами и фразами. Без внимания модель может с трудом улавливать сложные лингвистические структуры или обрабатывать случаи, когда порядок слов имеет решающее значение для точного перевода. Это ограничение может привести к неоптимальному переводу, особенно в языках с более гибким порядком слов или сложными синтаксическими структурами.\n",
        "\n",
        "2. Трудности в обработке слов вне словарного запаса (OOV). Механизмы внимания в моделях NMT помогают решить проблему обработки слов вне словарного запаса (OOV), позволяя модели сосредоточиться на соответствующих частях исходного предложения во время перевода. Без внимания модель может столкнуться с трудностями при правильном переводе слов OOV, поскольку в ней отсутствует механизм явного внимания к ним. Это может привести к неточным переводам или созданию токенов-заполнителей для слов OOV, которые могут не передавать предполагаемое значение, или к Exception, как в рассмотренном примере.\n",
        "\n",
        "3. Повышенная чувствительность к входному шуму. Архитектуры NMT без внимания, как правило, более чувствительны к входному шуму или возмущениям в исходном предложении. Механизмы внимания обеспечивают определенную надежность, позволяя модели выборочно обращать внимание на соответствующие части исходного предложения даже при наличии шума или ошибок. Без внимания модель может с трудом справляться с зашумленными входными данными, что приводит к ухудшению качества перевода или повышенной восприимчивости к ошибкам в исходном тексте.\n",
        "\n",
        "В заключение, использование архитектуры NMT без внимания имеет свои преимущества и недостатки. Хотя это упрощает структуру модели и может привести к сокращению времени вывода, у него могут возникнуть проблемы с захватом долгосрочных зависимостей, эффективной обработкой слов OOV и чувствительностью к входному шуму. Решение использовать NMT без внимания должно учитывать конкретные требования и ограничения конкретной задачи перевода.\n",
        "\n",
        "1. Dzmitry Bahdanau, Kyunghyun Cho, and Yoshua Bengio. \"Neural Machine Translation by Jointly Learning to Align and Translate.\" arXiv preprint arXiv:1409.0473 (2014).\n",
        "2. Minh-Thang Luong, Hieu Pham, and Christopher D. Manning. \"Effective Approaches to Attention-based Neural Machine Translation.\" Proceedings of the 2015 Conference on Empirical Methods in Natural Language Processing (EMNLP) (2015).\n",
        "3. Rico Sennrich, Barry Haddow, and Alexandra Birch. \"Neural Machine Translation of Rare Words with Subword Units.\" Proceedings of the 54th Annual Meeting of the Association for Computational Linguistics (Volume 1: Long Papers) (2016)."
      ],
      "metadata": {
        "id": "bJeK9QYVKuBb"
      }
    },
    {
      "cell_type": "code",
      "source": [],
      "metadata": {
        "id": "FslMO8P-RccG"
      },
      "execution_count": null,
      "outputs": []
    }
  ]
}