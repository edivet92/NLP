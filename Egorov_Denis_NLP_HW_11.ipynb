{
  "nbformat": 4,
  "nbformat_minor": 0,
  "metadata": {
    "colab": {
      "provenance": [],
      "gpuType": "T4",
      "authorship_tag": "ABX9TyP3vsVlSZgS4iONW8GYYkBY",
      "include_colab_link": true
    },
    "kernelspec": {
      "name": "python3",
      "display_name": "Python 3"
    },
    "language_info": {
      "name": "python"
    },
    "accelerator": "GPU"
  },
  "cells": [
    {
      "cell_type": "markdown",
      "metadata": {
        "id": "view-in-github",
        "colab_type": "text"
      },
      "source": [
        "<a href=\"https://colab.research.google.com/github/edivet92/NLP/blob/edivet92-patch-5/Egorov_Denis_NLP_HW_11.ipynb\" target=\"_parent\"><img src=\"https://colab.research.google.com/assets/colab-badge.svg\" alt=\"Open In Colab\"/></a>"
      ]
    },
    {
      "cell_type": "markdown",
      "source": [
        "### Практическое задание 11\n",
        "Разобраться с моделькой перевода как она устроена (c механизмом внимания), запустить для перевода с русского на английский (при желании можно взять другие пары языков)\n",
        "**внимание классическое** с RNN-ками в энкодере и декодере\n",
        "ноутбук в архиве\n",
        "lesson11_actual.zip\n",
        "называется\n",
        "`nmt_with_attention.ipynb`"
      ],
      "metadata": {
        "id": "o9c3RKSqdrlC"
      }
    },
    {
      "cell_type": "code",
      "source": [
        "import tensorflow as tf\n",
        "\n",
        "import matplotlib.pyplot as plt\n",
        "import matplotlib.ticker as ticker\n",
        "from sklearn.model_selection import train_test_split\n",
        "\n",
        "import unicodedata\n",
        "import re\n",
        "import numpy as np\n",
        "import os\n",
        "import io\n",
        "import time"
      ],
      "metadata": {
        "id": "yuqVGrfhdsef"
      },
      "execution_count": 1,
      "outputs": []
    },
    {
      "cell_type": "markdown",
      "source": [
        "### Скачаем данные"
      ],
      "metadata": {
        "id": "7NCGF283ff9i"
      }
    },
    {
      "cell_type": "code",
      "source": [
        "!wget http://www.manythings.org/anki/rus-eng.zip"
      ],
      "metadata": {
        "colab": {
          "base_uri": "https://localhost:8080/"
        },
        "id": "vh9IOStgfd9w",
        "outputId": "2e3706d1-329e-41c3-b057-e80b4c7d29a7"
      },
      "execution_count": 2,
      "outputs": [
        {
          "output_type": "stream",
          "name": "stdout",
          "text": [
            "--2023-09-12 13:07:35--  http://www.manythings.org/anki/rus-eng.zip\n",
            "Resolving www.manythings.org (www.manythings.org)... 173.254.30.110\n",
            "Connecting to www.manythings.org (www.manythings.org)|173.254.30.110|:80... connected.\n",
            "HTTP request sent, awaiting response... 200 OK\n",
            "Length: 15824155 (15M) [application/zip]\n",
            "Saving to: ‘rus-eng.zip’\n",
            "\n",
            "rus-eng.zip         100%[===================>]  15.09M  55.0MB/s    in 0.3s    \n",
            "\n",
            "2023-09-12 13:07:36 (55.0 MB/s) - ‘rus-eng.zip’ saved [15824155/15824155]\n",
            "\n"
          ]
        }
      ]
    },
    {
      "cell_type": "code",
      "source": [
        "!mkdir rus-eng\n",
        "!unzip rus-eng.zip -d rus-eng/"
      ],
      "metadata": {
        "colab": {
          "base_uri": "https://localhost:8080/"
        },
        "id": "K06x19Lyfl6p",
        "outputId": "01069ff9-8cc1-485d-c9e2-06037b466ca6"
      },
      "execution_count": 3,
      "outputs": [
        {
          "output_type": "stream",
          "name": "stdout",
          "text": [
            "Archive:  rus-eng.zip\n",
            "  inflating: rus-eng/rus.txt         \n",
            "  inflating: rus-eng/_about.txt      \n"
          ]
        }
      ]
    },
    {
      "cell_type": "code",
      "source": [
        "!ls /content/rus-eng/ -lah"
      ],
      "metadata": {
        "colab": {
          "base_uri": "https://localhost:8080/"
        },
        "id": "RwBIEhBRfn93",
        "outputId": "16739f44-f5b0-4c71-d7fd-c5edcb9c4cb2"
      },
      "execution_count": 4,
      "outputs": [
        {
          "output_type": "stream",
          "name": "stdout",
          "text": [
            "total 76M\n",
            "drwxr-xr-x 2 root root 4.0K Sep 12 13:07 .\n",
            "drwxr-xr-x 1 root root 4.0K Sep 12 13:07 ..\n",
            "-rw-r--r-- 1 root root 1.5K Jul 30 03:53 _about.txt\n",
            "-rw-r--r-- 1 root root  76M Jul 30 03:53 rus.txt\n"
          ]
        }
      ]
    },
    {
      "cell_type": "code",
      "source": [
        "# Download the file\n",
        "path_to_file = \"/content/rus-eng/rus.txt\""
      ],
      "metadata": {
        "id": "KK8FCygMfp1h"
      },
      "execution_count": 5,
      "outputs": []
    },
    {
      "cell_type": "code",
      "source": [
        "def preprocess_sentence(w):\n",
        "  w = w.lower().strip()\n",
        "\n",
        "  # creating a space between a word and the punctuation following it\n",
        "  # eg: \"he is a boy.\" => \"he is a boy .\"\n",
        "  # Reference:- https://stackoverflow.com/questions/3645931/python-padding-punctuation-with-white-spaces-keeping-punctuation\n",
        "  w = re.sub(r\"([?.!,])\", r\" \\1 \", w)\n",
        "  w = re.sub(r'[\" \"]+', \" \", w)\n",
        "\n",
        "  # replacing everything with space except (a-z, A-Z, \".\", \"?\", \"!\", \",\")\n",
        "  w = re.sub(r\"[^a-zA-Zа-яА-Я?.!,']+\", \" \", w)\n",
        "\n",
        "  w = w.strip()\n",
        "\n",
        "  # adding a start and an end token to the sentence\n",
        "  # so that the model know when to start and stop predicting.\n",
        "  w = '<start> ' + w + ' <end>'\n",
        "  return w"
      ],
      "metadata": {
        "id": "ajAJmJPrfsFz"
      },
      "execution_count": 6,
      "outputs": []
    },
    {
      "cell_type": "code",
      "source": [
        "preprocess_sentence(\"I can't go.\")"
      ],
      "metadata": {
        "colab": {
          "base_uri": "https://localhost:8080/",
          "height": 36
        },
        "id": "WxjZyUfRfuwq",
        "outputId": "0f1ac356-40ab-496b-a86b-70457a3492f4"
      },
      "execution_count": 7,
      "outputs": [
        {
          "output_type": "execute_result",
          "data": {
            "text/plain": [
              "\"<start> i can't go . <end>\""
            ],
            "application/vnd.google.colaboratory.intrinsic+json": {
              "type": "string"
            }
          },
          "metadata": {},
          "execution_count": 7
        }
      ]
    },
    {
      "cell_type": "code",
      "source": [
        "# 1. Remove the accents\n",
        "# 2. Clean the sentences\n",
        "# 3. Return word pairs in the format: [ENG, RUS]\n",
        "def create_dataset(path, num_examples):\n",
        "  lines = io.open(path, encoding='UTF-8').read().strip().split('\\n')\n",
        "\n",
        "  word_pairs = [[preprocess_sentence(w) for w in l.split('\\t')[:2]]  for l in lines[:num_examples]]\n",
        "\n",
        "  return zip(*word_pairs)"
      ],
      "metadata": {
        "id": "1Cb7gpRFfwTy"
      },
      "execution_count": 8,
      "outputs": []
    },
    {
      "cell_type": "code",
      "source": [
        "en, ru = create_dataset(path_to_file, None)\n",
        "print(en[-1])\n",
        "print(ru[-1])"
      ],
      "metadata": {
        "colab": {
          "base_uri": "https://localhost:8080/"
        },
        "id": "92eP_4oLfyLu",
        "outputId": "b552c3f4-01fe-4082-d08a-540fc9c97bb0"
      },
      "execution_count": 17,
      "outputs": [
        {
          "output_type": "stream",
          "name": "stdout",
          "text": [
            "<start> doubtless there exists in this world precisely the right woman for any given man to marry and vice versa but when you consider that a human being has the opportunity of being acquainted with only a few hundred people , and out of the few hundred that there are but a dozen or less whom he knows intimately , and out of the dozen , one or two friends at most , it will easily be seen , when we remember the number of millions who inhabit this world , that probably , since the earth was created , the right man has never yet met the right woman . <end>\n",
            "<start> несомненно , для каждого мужчины в этом мире где то есть подходящая женщина , которая может стать ему женой , обратное верно и для женщин . но если учесть , что у человека может быть максимум несколько сотен знакомых , из которых лишь дюжина , а то и меньше , тех , кого он знает близко , а из этой дюжины у него один или от силы два друга , то можно легко увидеть , что с уч том миллионов живущих на земле людей , ни один подходящий мужчина , возможно , ещ не встретил подходящую женщину . <end>\n"
          ]
        }
      ]
    },
    {
      "cell_type": "code",
      "source": [
        "def tokenize(lang):\n",
        "  lang_tokenizer = tf.keras.preprocessing.text.Tokenizer(\n",
        "      filters='')\n",
        "  lang_tokenizer.fit_on_texts(lang)\n",
        "\n",
        "  tensor = lang_tokenizer.texts_to_sequences(lang)\n",
        "\n",
        "  tensor = tf.keras.preprocessing.sequence.pad_sequences(tensor,\n",
        "                                                         padding='post')\n",
        "\n",
        "  return tensor, lang_tokenizer"
      ],
      "metadata": {
        "id": "KWG5bzRqfz3A"
      },
      "execution_count": 18,
      "outputs": []
    },
    {
      "cell_type": "code",
      "source": [
        "def load_dataset(path, num_examples=None):\n",
        "  # creating cleaned input, output pairs\n",
        "  targ_lang, inp_lang = create_dataset(path, num_examples)\n",
        "\n",
        "  input_tensor, inp_lang_tokenizer = tokenize(inp_lang)\n",
        "  target_tensor, targ_lang_tokenizer = tokenize(targ_lang)\n",
        "\n",
        "  return input_tensor, target_tensor, inp_lang_tokenizer, targ_lang_tokenizer"
      ],
      "metadata": {
        "id": "xlxqqQMLf7ZZ"
      },
      "execution_count": 19,
      "outputs": []
    },
    {
      "cell_type": "markdown",
      "source": [
        "### Обрежем датасет чтобы потратить меньше времени"
      ],
      "metadata": {
        "id": "_k4ONVlWgBYj"
      }
    },
    {
      "cell_type": "code",
      "source": [
        "len(en), len(ru)"
      ],
      "metadata": {
        "colab": {
          "base_uri": "https://localhost:8080/"
        },
        "id": "Yp00iEUNf9Xz",
        "outputId": "9fc5a2b2-70fb-41bb-99d2-3c1bbfaa3323"
      },
      "execution_count": 20,
      "outputs": [
        {
          "output_type": "execute_result",
          "data": {
            "text/plain": [
              "(479223, 479223)"
            ]
          },
          "metadata": {},
          "execution_count": 20
        }
      ]
    },
    {
      "cell_type": "code",
      "source": [
        "# Try experimenting with the size of that dataset\n",
        "num_examples = 100000\n",
        "input_tensor, target_tensor, inp_lang, targ_lang = load_dataset(path_to_file, num_examples)\n",
        "\n",
        "# Calculate max_length of the target tensors\n",
        "max_length_targ, max_length_inp = target_tensor.shape[1], input_tensor.shape[1]"
      ],
      "metadata": {
        "id": "DwdWmE8FgH6o"
      },
      "execution_count": 21,
      "outputs": []
    },
    {
      "cell_type": "code",
      "source": [
        "# Creating training and validation sets using an 80-20 split\n",
        "input_tensor_train, input_tensor_val, target_tensor_train, target_tensor_val = train_test_split(input_tensor, target_tensor, test_size=0.2)\n",
        "\n",
        "# Show length\n",
        "print(len(input_tensor_train), len(target_tensor_train), len(input_tensor_val), len(target_tensor_val))"
      ],
      "metadata": {
        "colab": {
          "base_uri": "https://localhost:8080/"
        },
        "id": "QEuEFP-PgJyC",
        "outputId": "79e13a18-d4c1-413f-a0e8-2743578c0fd8"
      },
      "execution_count": 22,
      "outputs": [
        {
          "output_type": "stream",
          "name": "stdout",
          "text": [
            "80000 80000 20000 20000\n"
          ]
        }
      ]
    },
    {
      "cell_type": "code",
      "source": [
        "def convert(lang, tensor):\n",
        "  for t in tensor:\n",
        "    if t!=0:\n",
        "      print (\"%d ----> %s\" % (t, lang.index_word[t]))"
      ],
      "metadata": {
        "id": "EOl5cTm_gTfo"
      },
      "execution_count": 23,
      "outputs": []
    },
    {
      "cell_type": "code",
      "source": [
        "print (\"Input Language; index to word mapping\")\n",
        "convert(inp_lang, input_tensor_train[0])\n",
        "print ()\n",
        "print (\"Target Language; index to word mapping\")\n",
        "convert(targ_lang, target_tensor_train[0])"
      ],
      "metadata": {
        "colab": {
          "base_uri": "https://localhost:8080/"
        },
        "id": "57BbZwNHgVBW",
        "outputId": "a37c4a47-21e5-49ec-b449-7e7d01940cad"
      },
      "execution_count": 24,
      "outputs": [
        {
          "output_type": "stream",
          "name": "stdout",
          "text": [
            "Input Language; index to word mapping\n",
            "1 ----> <start>\n",
            "10 ----> ты\n",
            "210 ----> разве\n",
            "7 ----> не\n",
            "840 ----> адвокат\n",
            "5 ----> ?\n",
            "2 ----> <end>\n",
            "\n",
            "Target Language; index to word mapping\n",
            "1 ----> <start>\n",
            "169 ----> aren't\n",
            "7 ----> you\n",
            "9 ----> a\n",
            "729 ----> lawyer\n",
            "6 ----> ?\n",
            "2 ----> <end>\n"
          ]
        }
      ]
    },
    {
      "cell_type": "markdown",
      "source": [
        "### Создадим tf.data датасет"
      ],
      "metadata": {
        "id": "928EyQqOg_Oh"
      }
    },
    {
      "cell_type": "code",
      "source": [
        "BUFFER_SIZE = len(input_tensor_train)\n",
        "BATCH_SIZE = 64\n",
        "steps_per_epoch = len(input_tensor_train)//BATCH_SIZE\n",
        "embedding_dim = 256\n",
        "units = 1024\n",
        "vocab_inp_size = len(inp_lang.word_index)+1\n",
        "vocab_tar_size = len(targ_lang.word_index)+1\n",
        "\n",
        "dataset = tf.data.Dataset.from_tensor_slices((input_tensor_train, target_tensor_train)).shuffle(BUFFER_SIZE)\n",
        "dataset = dataset.batch(BATCH_SIZE, drop_remainder=True)"
      ],
      "metadata": {
        "id": "eQOOW6OagYAL"
      },
      "execution_count": 25,
      "outputs": []
    },
    {
      "cell_type": "code",
      "source": [
        "example_input_batch, example_target_batch = next(iter(dataset))\n",
        "example_input_batch.shape, example_target_batch.shape"
      ],
      "metadata": {
        "colab": {
          "base_uri": "https://localhost:8080/"
        },
        "id": "5f-ZwxkUhGt9",
        "outputId": "8ae9d31b-fd0d-416e-9409-086dafec869f"
      },
      "execution_count": 26,
      "outputs": [
        {
          "output_type": "execute_result",
          "data": {
            "text/plain": [
              "(TensorShape([64, 15]), TensorShape([64, 11]))"
            ]
          },
          "metadata": {},
          "execution_count": 26
        }
      ]
    },
    {
      "cell_type": "markdown",
      "source": [
        "#### GRU в энкодере, в отличие от NMT без внимания должен возващать последовательности"
      ],
      "metadata": {
        "id": "SvHqHakohMeR"
      }
    },
    {
      "cell_type": "code",
      "source": [
        "class Encoder(tf.keras.Model):\n",
        "  def __init__(self, vocab_size, embedding_dim, enc_units, batch_sz):\n",
        "    super(Encoder, self).__init__()\n",
        "    self.batch_sz = batch_sz\n",
        "    self.enc_units = enc_units\n",
        "    self.embedding = tf.keras.layers.Embedding(vocab_size, embedding_dim)\n",
        "    self.gru = tf.keras.layers.GRU(self.enc_units,\n",
        "                                   return_sequences=True,\n",
        "                                   return_state=True,\n",
        "                                   recurrent_initializer='glorot_uniform')\n",
        "\n",
        "  def call(self, x, hidden):\n",
        "    x = self.embedding(x)\n",
        "    output, state = self.gru(x, initial_state = hidden)\n",
        "    return output, state\n",
        "\n",
        "  def initialize_hidden_state(self):\n",
        "    return tf.zeros((self.batch_sz, self.enc_units))"
      ],
      "metadata": {
        "id": "eK5akFKQhIOU"
      },
      "execution_count": 27,
      "outputs": []
    },
    {
      "cell_type": "code",
      "source": [
        "encoder = Encoder(vocab_inp_size, embedding_dim, units, BATCH_SIZE)\n",
        "\n",
        "# sample input\n",
        "sample_hidden = encoder.initialize_hidden_state()\n",
        "sample_output, sample_hidden = encoder(example_input_batch, sample_hidden)\n",
        "print (f'Encoder output shape: (batch size, sequence length, units) {sample_output.shape}')\n",
        "print (f'Encoder Hidden state shape: (batch size, units) {sample_hidden.shape}')"
      ],
      "metadata": {
        "colab": {
          "base_uri": "https://localhost:8080/"
        },
        "id": "A56resuehKXr",
        "outputId": "0eb6e132-55c0-4e54-e553-0b688ad644d8"
      },
      "execution_count": 28,
      "outputs": [
        {
          "output_type": "stream",
          "name": "stdout",
          "text": [
            "Encoder output shape: (batch size, sequence length, units) (64, 15, 1024)\n",
            "Encoder Hidden state shape: (batch size, units) (64, 1024)\n"
          ]
        }
      ]
    },
    {
      "cell_type": "markdown",
      "source": [
        "#### Блок внимания"
      ],
      "metadata": {
        "id": "4p3-HGBuhsQy"
      }
    },
    {
      "cell_type": "code",
      "source": [
        "class BahdanauAttention(tf.keras.layers.Layer): #Богданов атэншн\n",
        "  def __init__(self, units):\n",
        "    super(BahdanauAttention, self).__init__()\n",
        "    self.W1 = tf.keras.layers.Dense(units)\n",
        "    self.W2 = tf.keras.layers.Dense(units)\n",
        "    self.V = tf.keras.layers.Dense(1)\n",
        "\n",
        "  def call(self, query, values):\n",
        "    # query hidden state shape == (batch_size, hidden size)\n",
        "    # query_with_time_axis shape == (batch_size, 1, hidden size)\n",
        "    # values shape == (batch_size, max_len, hidden size)\n",
        "    # we are doing this to broadcast addition along the time axis to calculate the score\n",
        "    query_with_time_axis = tf.expand_dims(query, 1)\n",
        "\n",
        "    # score shape == (batch_size, max_length, 1)\n",
        "    # we get 1 at the last axis because we are applying score to self.V\n",
        "    # the shape of the tensor before applying self.V is (batch_size, max_length, units)\n",
        "    score = self.V(tf.nn.tanh(\n",
        "        self.W1(query_with_time_axis) + self.W2(values)))\n",
        "\n",
        "    # attention_weights shape == (batch_size, max_length, 1)\n",
        "    attention_weights = tf.nn.softmax(score, axis=1)\n",
        "\n",
        "    # context_vector shape after sum == (batch_size, hidden_size)\n",
        "    context_vector = attention_weights * values\n",
        "    context_vector = tf.reduce_sum(context_vector, axis=1)\n",
        "\n",
        "    return context_vector, attention_weights"
      ],
      "metadata": {
        "id": "QXpFW0pfhbb2"
      },
      "execution_count": 29,
      "outputs": []
    },
    {
      "cell_type": "code",
      "source": [
        "attention_layer = BahdanauAttention(10)\n",
        "attention_result, attention_weights = attention_layer(sample_hidden, sample_output)\n",
        "\n",
        "print(f\"Attention result shape: (batch size, units) {attention_result.shape}\")\n",
        "print(f\"Attention weights shape: (batch_size, sequence_length, 1) {attention_weights.shape}\")"
      ],
      "metadata": {
        "colab": {
          "base_uri": "https://localhost:8080/"
        },
        "id": "6ZyIZvDEhxrL",
        "outputId": "6d90b4f7-e193-4965-83fc-d1011d045895"
      },
      "execution_count": 30,
      "outputs": [
        {
          "output_type": "stream",
          "name": "stdout",
          "text": [
            "Attention result shape: (batch size, units) (64, 1024)\n",
            "Attention weights shape: (batch_size, sequence_length, 1) (64, 15, 1)\n"
          ]
        }
      ]
    },
    {
      "cell_type": "markdown",
      "source": [
        "#### Декодер"
      ],
      "metadata": {
        "id": "INLoukaUiA66"
      }
    },
    {
      "cell_type": "code",
      "source": [
        "class Decoder(tf.keras.Model):\n",
        "  def __init__(self, vocab_size, embedding_dim, dec_units, batch_sz):\n",
        "    super(Decoder, self).__init__()\n",
        "    self.batch_sz = batch_sz\n",
        "    self.dec_units = dec_units\n",
        "    self.embedding = tf.keras.layers.Embedding(vocab_size, embedding_dim)\n",
        "    self.gru = tf.keras.layers.GRU(self.dec_units,\n",
        "                                   return_sequences=True,\n",
        "                                   return_state=True,\n",
        "                                   recurrent_initializer='glorot_uniform')\n",
        "    self.fc = tf.keras.layers.Dense(vocab_size)\n",
        "\n",
        "    # used for attention\n",
        "    self.attention = BahdanauAttention(self.dec_units)\n",
        "\n",
        "  def call(self, x, hidden, enc_output):\n",
        "    # enc_output shape == (batch_size, max_length, hidden_size)\n",
        "    context_vector, attention_weights = self.attention(hidden, enc_output)\n",
        "\n",
        "    # x shape after passing through embedding == (batch_size, 1, embedding_dim)\n",
        "    x = self.embedding(x)\n",
        "\n",
        "    # x shape after concatenation == (batch_size, 1, embedding_dim + hidden_size)\n",
        "    x = tf.concat([tf.expand_dims(context_vector, 1), x], axis=-1)\n",
        "\n",
        "    # passing the concatenated vector to the GRU\n",
        "    output, state = self.gru(x)\n",
        "\n",
        "    # output shape == (batch_size * 1, hidden_size)\n",
        "    output = tf.reshape(output, (-1, output.shape[2]))\n",
        "\n",
        "    # output shape == (batch_size, vocab)\n",
        "    x = self.fc(output)\n",
        "\n",
        "    return x, state, attention_weights"
      ],
      "metadata": {
        "id": "lCFIOgwEh49Q"
      },
      "execution_count": 31,
      "outputs": []
    },
    {
      "cell_type": "code",
      "source": [
        "decoder = Decoder(vocab_tar_size, embedding_dim, units, BATCH_SIZE)\n",
        "\n",
        "sample_decoder_output, _, _ = decoder(tf.random.uniform((BATCH_SIZE, 1)),\n",
        "                                      sample_hidden, sample_output)\n",
        "\n",
        "print (f'Decoder output shape: (batch_size, vocab size) {sample_decoder_output.shape}')"
      ],
      "metadata": {
        "colab": {
          "base_uri": "https://localhost:8080/"
        },
        "id": "JfE_j9GQh9Dz",
        "outputId": "cece4501-2584-449c-bddf-89e57d4a3a08"
      },
      "execution_count": 32,
      "outputs": [
        {
          "output_type": "stream",
          "name": "stdout",
          "text": [
            "Decoder output shape: (batch_size, vocab size) (64, 7386)\n"
          ]
        }
      ]
    },
    {
      "cell_type": "markdown",
      "source": [
        "### Определим оптимизатор и функцию потерь"
      ],
      "metadata": {
        "id": "Y2hNO3AViMM9"
      }
    },
    {
      "cell_type": "code",
      "source": [
        "optimizer = tf.keras.optimizers.Adam()\n",
        "loss_object = tf.keras.losses.SparseCategoricalCrossentropy(\n",
        "    from_logits=True, reduction='none')\n",
        "\n",
        "def loss_function(real, pred):\n",
        "  mask = tf.math.logical_not(tf.math.equal(real, 0))\n",
        "  loss_ = loss_object(real, pred)\n",
        "\n",
        "  mask = tf.cast(mask, dtype=loss_.dtype)\n",
        "  loss_ *= mask\n",
        "\n",
        "  return tf.reduce_mean(loss_)"
      ],
      "metadata": {
        "id": "BWnN88FviPIp"
      },
      "execution_count": 33,
      "outputs": []
    },
    {
      "cell_type": "markdown",
      "source": [
        "### Будем сохранять веса в процессе обучения"
      ],
      "metadata": {
        "id": "29OsZ9saiYf-"
      }
    },
    {
      "cell_type": "code",
      "source": [
        "checkpoint_dir = './training_attention_checkpoints'\n",
        "checkpoint_prefix = os.path.join(checkpoint_dir, \"ckpt\")\n",
        "checkpoint = tf.train.Checkpoint(optimizer=optimizer,\n",
        "                                 encoder=encoder,\n",
        "                                 decoder=decoder)"
      ],
      "metadata": {
        "id": "Z7fLaueQiRm6"
      },
      "execution_count": 34,
      "outputs": []
    },
    {
      "cell_type": "markdown",
      "source": [
        "### tf фунцкия обучения"
      ],
      "metadata": {
        "id": "OJhTV7w2inPt"
      }
    },
    {
      "cell_type": "code",
      "source": [
        "@tf.function\n",
        "def train_step(inp, targ, enc_hidden):\n",
        "  loss = 0\n",
        "\n",
        "  with tf.GradientTape() as tape:\n",
        "    enc_output, enc_hidden = encoder(inp, enc_hidden)\n",
        "\n",
        "    dec_hidden = enc_hidden\n",
        "\n",
        "    dec_input = tf.expand_dims([targ_lang.word_index['<start>']] * BATCH_SIZE, 1)\n",
        "\n",
        "    # Teacher forcing - feeding the target as the next input\n",
        "    for t in range(1, targ.shape[1]):\n",
        "      # passing enc_output to the decoder\n",
        "      predictions, dec_hidden, _ = decoder(dec_input, dec_hidden, enc_output)\n",
        "\n",
        "      loss += loss_function(targ[:, t], predictions)\n",
        "\n",
        "      # using teacher forcing\n",
        "      dec_input = tf.expand_dims(targ[:, t], 1)\n",
        "\n",
        "  batch_loss = (loss / int(targ.shape[1]))\n",
        "\n",
        "  variables = encoder.trainable_variables + decoder.trainable_variables\n",
        "\n",
        "  gradients = tape.gradient(loss, variables)\n",
        "\n",
        "  optimizer.apply_gradients(zip(gradients, variables))\n",
        "\n",
        "  return batch_loss"
      ],
      "metadata": {
        "id": "T082ZXRQijqY"
      },
      "execution_count": 35,
      "outputs": []
    },
    {
      "cell_type": "markdown",
      "source": [
        "### Обучение"
      ],
      "metadata": {
        "id": "cx5nvx5ajKPH"
      }
    },
    {
      "cell_type": "code",
      "source": [
        "EPOCHS = 25\n",
        "\n",
        "for epoch in range(EPOCHS):\n",
        "  start = time.time()\n",
        "\n",
        "  enc_hidden = encoder.initialize_hidden_state()\n",
        "  total_loss = 0\n",
        "\n",
        "  for (batch, (inp, targ)) in enumerate(dataset.take(steps_per_epoch)):\n",
        "    batch_loss = train_step(inp, targ, enc_hidden)\n",
        "    total_loss += batch_loss\n",
        "\n",
        "    if batch % 100 == 0:\n",
        "      print('Epoch {} Batch {} Loss {:.4f}'.format(epoch + 1,\n",
        "                                                   batch,\n",
        "                                                   batch_loss.numpy()))\n",
        "  # saving (checkpoint) the model every 2 epochs\n",
        "  if (epoch + 1) % 2 == 0:\n",
        "    checkpoint.save(file_prefix = checkpoint_prefix)\n",
        "\n",
        "  print('Epoch {} Loss {:.4f}'.format(epoch + 1,\n",
        "                                      total_loss / steps_per_epoch))\n",
        "  print('Time taken for 1 epoch {} sec\\n'.format(time.time() - start))"
      ],
      "metadata": {
        "colab": {
          "base_uri": "https://localhost:8080/"
        },
        "id": "zzRzZOtHjHpL",
        "outputId": "374514cc-b09b-416e-d012-4f2a86fbd618"
      },
      "execution_count": 36,
      "outputs": [
        {
          "output_type": "stream",
          "name": "stdout",
          "text": [
            "Epoch 1 Batch 0 Loss 4.7955\n",
            "Epoch 1 Batch 100 Loss 2.1738\n",
            "Epoch 1 Batch 200 Loss 1.8519\n",
            "Epoch 1 Batch 300 Loss 1.6767\n",
            "Epoch 1 Batch 400 Loss 1.5961\n",
            "Epoch 1 Batch 500 Loss 1.5449\n",
            "Epoch 1 Batch 600 Loss 1.4978\n",
            "Epoch 1 Batch 700 Loss 1.3839\n",
            "Epoch 1 Batch 800 Loss 1.3436\n",
            "Epoch 1 Batch 900 Loss 1.2320\n",
            "Epoch 1 Batch 1000 Loss 1.1368\n",
            "Epoch 1 Batch 1100 Loss 1.1036\n",
            "Epoch 1 Batch 1200 Loss 0.9709\n",
            "Epoch 1 Loss 1.4781\n",
            "Time taken for 1 epoch 126.98161673545837 sec\n",
            "\n",
            "Epoch 2 Batch 0 Loss 0.7783\n",
            "Epoch 2 Batch 100 Loss 0.8067\n",
            "Epoch 2 Batch 200 Loss 0.7634\n",
            "Epoch 2 Batch 300 Loss 0.7248\n",
            "Epoch 2 Batch 400 Loss 0.7097\n",
            "Epoch 2 Batch 500 Loss 0.6664\n",
            "Epoch 2 Batch 600 Loss 0.6546\n",
            "Epoch 2 Batch 700 Loss 0.6054\n",
            "Epoch 2 Batch 800 Loss 0.5292\n",
            "Epoch 2 Batch 900 Loss 0.6177\n",
            "Epoch 2 Batch 1000 Loss 0.5681\n",
            "Epoch 2 Batch 1100 Loss 0.5662\n",
            "Epoch 2 Batch 1200 Loss 0.6160\n",
            "Epoch 2 Loss 0.6652\n",
            "Time taken for 1 epoch 98.26446866989136 sec\n",
            "\n",
            "Epoch 3 Batch 0 Loss 0.3096\n",
            "Epoch 3 Batch 100 Loss 0.3299\n",
            "Epoch 3 Batch 200 Loss 0.3536\n",
            "Epoch 3 Batch 300 Loss 0.4194\n",
            "Epoch 3 Batch 400 Loss 0.3498\n",
            "Epoch 3 Batch 500 Loss 0.2891\n",
            "Epoch 3 Batch 600 Loss 0.2921\n",
            "Epoch 3 Batch 700 Loss 0.2546\n",
            "Epoch 3 Batch 800 Loss 0.3448\n",
            "Epoch 3 Batch 900 Loss 0.2997\n",
            "Epoch 3 Batch 1000 Loss 0.2690\n",
            "Epoch 3 Batch 1100 Loss 0.3523\n",
            "Epoch 3 Batch 1200 Loss 0.2870\n",
            "Epoch 3 Loss 0.3504\n",
            "Time taken for 1 epoch 96.35053586959839 sec\n",
            "\n",
            "Epoch 4 Batch 0 Loss 0.2263\n",
            "Epoch 4 Batch 100 Loss 0.2473\n",
            "Epoch 4 Batch 200 Loss 0.1834\n",
            "Epoch 4 Batch 300 Loss 0.1934\n",
            "Epoch 4 Batch 400 Loss 0.1991\n",
            "Epoch 4 Batch 500 Loss 0.1923\n",
            "Epoch 4 Batch 600 Loss 0.3296\n",
            "Epoch 4 Batch 700 Loss 0.1901\n",
            "Epoch 4 Batch 800 Loss 0.2719\n",
            "Epoch 4 Batch 900 Loss 0.2550\n",
            "Epoch 4 Batch 1000 Loss 0.2410\n",
            "Epoch 4 Batch 1100 Loss 0.2394\n",
            "Epoch 4 Batch 1200 Loss 0.2433\n",
            "Epoch 4 Loss 0.2169\n",
            "Time taken for 1 epoch 97.70927739143372 sec\n",
            "\n",
            "Epoch 5 Batch 0 Loss 0.1363\n",
            "Epoch 5 Batch 100 Loss 0.0931\n",
            "Epoch 5 Batch 200 Loss 0.1367\n",
            "Epoch 5 Batch 300 Loss 0.1298\n",
            "Epoch 5 Batch 400 Loss 0.1597\n",
            "Epoch 5 Batch 500 Loss 0.1229\n",
            "Epoch 5 Batch 600 Loss 0.1367\n",
            "Epoch 5 Batch 700 Loss 0.1351\n",
            "Epoch 5 Batch 800 Loss 0.1561\n",
            "Epoch 5 Batch 900 Loss 0.1411\n",
            "Epoch 5 Batch 1000 Loss 0.1446\n",
            "Epoch 5 Batch 1100 Loss 0.1435\n",
            "Epoch 5 Batch 1200 Loss 0.1716\n",
            "Epoch 5 Loss 0.1533\n",
            "Time taken for 1 epoch 96.17878890037537 sec\n",
            "\n",
            "Epoch 6 Batch 0 Loss 0.1055\n",
            "Epoch 6 Batch 100 Loss 0.0998\n",
            "Epoch 6 Batch 200 Loss 0.0968\n",
            "Epoch 6 Batch 300 Loss 0.1320\n",
            "Epoch 6 Batch 400 Loss 0.1177\n",
            "Epoch 6 Batch 500 Loss 0.1298\n",
            "Epoch 6 Batch 600 Loss 0.0904\n",
            "Epoch 6 Batch 700 Loss 0.1440\n",
            "Epoch 6 Batch 800 Loss 0.1013\n",
            "Epoch 6 Batch 900 Loss 0.1300\n",
            "Epoch 6 Batch 1000 Loss 0.1471\n",
            "Epoch 6 Batch 1100 Loss 0.1961\n",
            "Epoch 6 Batch 1200 Loss 0.1386\n",
            "Epoch 6 Loss 0.1204\n",
            "Time taken for 1 epoch 102.17761898040771 sec\n",
            "\n",
            "Epoch 7 Batch 0 Loss 0.0788\n",
            "Epoch 7 Batch 100 Loss 0.0840\n",
            "Epoch 7 Batch 200 Loss 0.0650\n",
            "Epoch 7 Batch 300 Loss 0.0815\n",
            "Epoch 7 Batch 400 Loss 0.0999\n",
            "Epoch 7 Batch 500 Loss 0.1043\n",
            "Epoch 7 Batch 600 Loss 0.0524\n",
            "Epoch 7 Batch 700 Loss 0.1281\n",
            "Epoch 7 Batch 800 Loss 0.0793\n",
            "Epoch 7 Batch 900 Loss 0.1505\n",
            "Epoch 7 Batch 1000 Loss 0.1171\n",
            "Epoch 7 Batch 1100 Loss 0.1018\n",
            "Epoch 7 Batch 1200 Loss 0.1138\n",
            "Epoch 7 Loss 0.1003\n",
            "Time taken for 1 epoch 96.12879061698914 sec\n",
            "\n",
            "Epoch 8 Batch 0 Loss 0.0602\n",
            "Epoch 8 Batch 100 Loss 0.0445\n",
            "Epoch 8 Batch 200 Loss 0.0867\n",
            "Epoch 8 Batch 300 Loss 0.0904\n",
            "Epoch 8 Batch 400 Loss 0.0565\n",
            "Epoch 8 Batch 500 Loss 0.0957\n",
            "Epoch 8 Batch 600 Loss 0.1291\n",
            "Epoch 8 Batch 700 Loss 0.1003\n",
            "Epoch 8 Batch 800 Loss 0.0636\n",
            "Epoch 8 Batch 900 Loss 0.1109\n",
            "Epoch 8 Batch 1000 Loss 0.0756\n",
            "Epoch 8 Batch 1100 Loss 0.1266\n",
            "Epoch 8 Batch 1200 Loss 0.0754\n",
            "Epoch 8 Loss 0.0898\n",
            "Time taken for 1 epoch 97.34585332870483 sec\n",
            "\n",
            "Epoch 9 Batch 0 Loss 0.0797\n",
            "Epoch 9 Batch 100 Loss 0.0784\n",
            "Epoch 9 Batch 200 Loss 0.1150\n",
            "Epoch 9 Batch 300 Loss 0.0958\n",
            "Epoch 9 Batch 400 Loss 0.0835\n",
            "Epoch 9 Batch 500 Loss 0.0732\n",
            "Epoch 9 Batch 600 Loss 0.0665\n",
            "Epoch 9 Batch 700 Loss 0.0762\n",
            "Epoch 9 Batch 800 Loss 0.0760\n",
            "Epoch 9 Batch 900 Loss 0.1234\n",
            "Epoch 9 Batch 1000 Loss 0.1268\n",
            "Epoch 9 Batch 1100 Loss 0.0898\n",
            "Epoch 9 Batch 1200 Loss 0.0688\n",
            "Epoch 9 Loss 0.0841\n",
            "Time taken for 1 epoch 96.15211796760559 sec\n",
            "\n",
            "Epoch 10 Batch 0 Loss 0.0670\n",
            "Epoch 10 Batch 100 Loss 0.0520\n",
            "Epoch 10 Batch 200 Loss 0.0663\n",
            "Epoch 10 Batch 300 Loss 0.0530\n",
            "Epoch 10 Batch 400 Loss 0.0656\n",
            "Epoch 10 Batch 500 Loss 0.0693\n",
            "Epoch 10 Batch 600 Loss 0.0991\n",
            "Epoch 10 Batch 700 Loss 0.0813\n",
            "Epoch 10 Batch 800 Loss 0.0652\n",
            "Epoch 10 Batch 900 Loss 0.0926\n",
            "Epoch 10 Batch 1000 Loss 0.0955\n",
            "Epoch 10 Batch 1100 Loss 0.1084\n",
            "Epoch 10 Batch 1200 Loss 0.0975\n",
            "Epoch 10 Loss 0.0763\n",
            "Time taken for 1 epoch 99.80863165855408 sec\n",
            "\n",
            "Epoch 11 Batch 0 Loss 0.0613\n",
            "Epoch 11 Batch 100 Loss 0.0809\n",
            "Epoch 11 Batch 200 Loss 0.0771\n",
            "Epoch 11 Batch 300 Loss 0.0578\n",
            "Epoch 11 Batch 400 Loss 0.0831\n",
            "Epoch 11 Batch 500 Loss 0.0295\n",
            "Epoch 11 Batch 600 Loss 0.0477\n",
            "Epoch 11 Batch 700 Loss 0.0969\n",
            "Epoch 11 Batch 800 Loss 0.0859\n",
            "Epoch 11 Batch 900 Loss 0.1032\n",
            "Epoch 11 Batch 1000 Loss 0.0709\n",
            "Epoch 11 Batch 1100 Loss 0.0675\n",
            "Epoch 11 Batch 1200 Loss 0.0593\n",
            "Epoch 11 Loss 0.0723\n",
            "Time taken for 1 epoch 96.09532594680786 sec\n",
            "\n",
            "Epoch 12 Batch 0 Loss 0.0463\n",
            "Epoch 12 Batch 100 Loss 0.0638\n",
            "Epoch 12 Batch 200 Loss 0.0521\n",
            "Epoch 12 Batch 300 Loss 0.0455\n",
            "Epoch 12 Batch 400 Loss 0.0939\n",
            "Epoch 12 Batch 500 Loss 0.0535\n",
            "Epoch 12 Batch 600 Loss 0.0971\n",
            "Epoch 12 Batch 700 Loss 0.0547\n",
            "Epoch 12 Batch 800 Loss 0.0576\n",
            "Epoch 12 Batch 900 Loss 0.0455\n",
            "Epoch 12 Batch 1000 Loss 0.0631\n",
            "Epoch 12 Batch 1100 Loss 0.0895\n",
            "Epoch 12 Batch 1200 Loss 0.0806\n",
            "Epoch 12 Loss 0.0699\n",
            "Time taken for 1 epoch 97.00864481925964 sec\n",
            "\n",
            "Epoch 13 Batch 0 Loss 0.0735\n",
            "Epoch 13 Batch 100 Loss 0.0906\n",
            "Epoch 13 Batch 200 Loss 0.0359\n",
            "Epoch 13 Batch 300 Loss 0.0590\n",
            "Epoch 13 Batch 400 Loss 0.0300\n",
            "Epoch 13 Batch 500 Loss 0.0598\n",
            "Epoch 13 Batch 600 Loss 0.0596\n",
            "Epoch 13 Batch 700 Loss 0.0620\n",
            "Epoch 13 Batch 800 Loss 0.0517\n",
            "Epoch 13 Batch 900 Loss 0.0419\n",
            "Epoch 13 Batch 1000 Loss 0.0584\n",
            "Epoch 13 Batch 1100 Loss 0.0548\n",
            "Epoch 13 Batch 1200 Loss 0.0536\n",
            "Epoch 13 Loss 0.0663\n",
            "Time taken for 1 epoch 96.13640093803406 sec\n",
            "\n",
            "Epoch 14 Batch 0 Loss 0.0502\n",
            "Epoch 14 Batch 100 Loss 0.0323\n",
            "Epoch 14 Batch 200 Loss 0.0700\n",
            "Epoch 14 Batch 300 Loss 0.0632\n",
            "Epoch 14 Batch 400 Loss 0.0956\n",
            "Epoch 14 Batch 500 Loss 0.0851\n",
            "Epoch 14 Batch 600 Loss 0.0406\n",
            "Epoch 14 Batch 700 Loss 0.0715\n",
            "Epoch 14 Batch 800 Loss 0.1024\n",
            "Epoch 14 Batch 900 Loss 0.0698\n",
            "Epoch 14 Batch 1000 Loss 0.0790\n",
            "Epoch 14 Batch 1100 Loss 0.0525\n",
            "Epoch 14 Batch 1200 Loss 0.0977\n",
            "Epoch 14 Loss 0.0643\n",
            "Time taken for 1 epoch 101.87670564651489 sec\n",
            "\n",
            "Epoch 15 Batch 0 Loss 0.0459\n",
            "Epoch 15 Batch 100 Loss 0.1021\n",
            "Epoch 15 Batch 200 Loss 0.0381\n",
            "Epoch 15 Batch 300 Loss 0.0384\n",
            "Epoch 15 Batch 400 Loss 0.0699\n",
            "Epoch 15 Batch 500 Loss 0.0557\n",
            "Epoch 15 Batch 600 Loss 0.0524\n",
            "Epoch 15 Batch 700 Loss 0.0435\n",
            "Epoch 15 Batch 800 Loss 0.0642\n",
            "Epoch 15 Batch 900 Loss 0.0411\n",
            "Epoch 15 Batch 1000 Loss 0.0728\n",
            "Epoch 15 Batch 1100 Loss 0.0625\n",
            "Epoch 15 Batch 1200 Loss 0.0948\n",
            "Epoch 15 Loss 0.0622\n",
            "Time taken for 1 epoch 96.15966200828552 sec\n",
            "\n",
            "Epoch 16 Batch 0 Loss 0.0514\n",
            "Epoch 16 Batch 100 Loss 0.0186\n",
            "Epoch 16 Batch 200 Loss 0.0548\n",
            "Epoch 16 Batch 300 Loss 0.0552\n",
            "Epoch 16 Batch 400 Loss 0.0476\n",
            "Epoch 16 Batch 500 Loss 0.0940\n",
            "Epoch 16 Batch 600 Loss 0.0548\n",
            "Epoch 16 Batch 700 Loss 0.0389\n",
            "Epoch 16 Batch 800 Loss 0.0840\n",
            "Epoch 16 Batch 900 Loss 0.0606\n",
            "Epoch 16 Batch 1000 Loss 0.0347\n",
            "Epoch 16 Batch 1100 Loss 0.0900\n",
            "Epoch 16 Batch 1200 Loss 0.0750\n",
            "Epoch 16 Loss 0.0608\n",
            "Time taken for 1 epoch 102.29245448112488 sec\n",
            "\n",
            "Epoch 17 Batch 0 Loss 0.0539\n",
            "Epoch 17 Batch 100 Loss 0.0397\n",
            "Epoch 17 Batch 200 Loss 0.0573\n",
            "Epoch 17 Batch 300 Loss 0.0509\n",
            "Epoch 17 Batch 400 Loss 0.0346\n",
            "Epoch 17 Batch 500 Loss 0.0868\n",
            "Epoch 17 Batch 600 Loss 0.0744\n",
            "Epoch 17 Batch 700 Loss 0.0490\n",
            "Epoch 17 Batch 800 Loss 0.0679\n",
            "Epoch 17 Batch 900 Loss 0.0589\n",
            "Epoch 17 Batch 1000 Loss 0.0590\n",
            "Epoch 17 Batch 1100 Loss 0.0476\n",
            "Epoch 17 Batch 1200 Loss 0.0657\n",
            "Epoch 17 Loss 0.0585\n",
            "Time taken for 1 epoch 96.14343857765198 sec\n",
            "\n",
            "Epoch 18 Batch 0 Loss 0.0478\n",
            "Epoch 18 Batch 100 Loss 0.0392\n",
            "Epoch 18 Batch 200 Loss 0.0347\n",
            "Epoch 18 Batch 300 Loss 0.0399\n",
            "Epoch 18 Batch 400 Loss 0.0344\n",
            "Epoch 18 Batch 500 Loss 0.0721\n",
            "Epoch 18 Batch 600 Loss 0.0608\n",
            "Epoch 18 Batch 700 Loss 0.0501\n",
            "Epoch 18 Batch 800 Loss 0.0495\n",
            "Epoch 18 Batch 900 Loss 0.0620\n",
            "Epoch 18 Batch 1000 Loss 0.0583\n",
            "Epoch 18 Batch 1100 Loss 0.0871\n",
            "Epoch 18 Batch 1200 Loss 0.0678\n",
            "Epoch 18 Loss 0.0570\n",
            "Time taken for 1 epoch 97.29149413108826 sec\n",
            "\n",
            "Epoch 19 Batch 0 Loss 0.0373\n",
            "Epoch 19 Batch 100 Loss 0.0807\n",
            "Epoch 19 Batch 200 Loss 0.0455\n",
            "Epoch 19 Batch 300 Loss 0.0473\n",
            "Epoch 19 Batch 400 Loss 0.0284\n",
            "Epoch 19 Batch 500 Loss 0.0756\n",
            "Epoch 19 Batch 600 Loss 0.0447\n",
            "Epoch 19 Batch 700 Loss 0.0521\n",
            "Epoch 19 Batch 800 Loss 0.0406\n",
            "Epoch 19 Batch 900 Loss 0.0409\n",
            "Epoch 19 Batch 1000 Loss 0.0756\n",
            "Epoch 19 Batch 1100 Loss 0.0448\n",
            "Epoch 19 Batch 1200 Loss 0.0595\n",
            "Epoch 19 Loss 0.0552\n",
            "Time taken for 1 epoch 96.14188551902771 sec\n",
            "\n",
            "Epoch 20 Batch 0 Loss 0.0428\n",
            "Epoch 20 Batch 100 Loss 0.0747\n",
            "Epoch 20 Batch 200 Loss 0.0493\n",
            "Epoch 20 Batch 300 Loss 0.0454\n",
            "Epoch 20 Batch 400 Loss 0.0449\n",
            "Epoch 20 Batch 500 Loss 0.0473\n",
            "Epoch 20 Batch 600 Loss 0.0561\n",
            "Epoch 20 Batch 700 Loss 0.0447\n",
            "Epoch 20 Batch 800 Loss 0.0530\n",
            "Epoch 20 Batch 900 Loss 0.0524\n",
            "Epoch 20 Batch 1000 Loss 0.0507\n",
            "Epoch 20 Batch 1100 Loss 0.0688\n",
            "Epoch 20 Batch 1200 Loss 0.0853\n",
            "Epoch 20 Loss 0.0544\n",
            "Time taken for 1 epoch 101.8870313167572 sec\n",
            "\n",
            "Epoch 21 Batch 0 Loss 0.0703\n",
            "Epoch 21 Batch 100 Loss 0.0361\n",
            "Epoch 21 Batch 200 Loss 0.0359\n",
            "Epoch 21 Batch 300 Loss 0.0478\n",
            "Epoch 21 Batch 400 Loss 0.0488\n",
            "Epoch 21 Batch 500 Loss 0.0846\n",
            "Epoch 21 Batch 600 Loss 0.0266\n",
            "Epoch 21 Batch 700 Loss 0.0672\n",
            "Epoch 21 Batch 800 Loss 0.0365\n",
            "Epoch 21 Batch 900 Loss 0.0753\n",
            "Epoch 21 Batch 1000 Loss 0.0591\n",
            "Epoch 21 Batch 1100 Loss 0.0490\n",
            "Epoch 21 Batch 1200 Loss 0.0526\n",
            "Epoch 21 Loss 0.0535\n",
            "Time taken for 1 epoch 96.35552740097046 sec\n",
            "\n",
            "Epoch 22 Batch 0 Loss 0.0753\n",
            "Epoch 22 Batch 100 Loss 0.0340\n",
            "Epoch 22 Batch 200 Loss 0.0379\n",
            "Epoch 22 Batch 300 Loss 0.0979\n",
            "Epoch 22 Batch 400 Loss 0.0290\n",
            "Epoch 22 Batch 500 Loss 0.0388\n",
            "Epoch 22 Batch 600 Loss 0.0525\n",
            "Epoch 22 Batch 700 Loss 0.0508\n",
            "Epoch 22 Batch 800 Loss 0.0249\n",
            "Epoch 22 Batch 900 Loss 0.0428\n",
            "Epoch 22 Batch 1000 Loss 0.0645\n",
            "Epoch 22 Batch 1100 Loss 0.0757\n",
            "Epoch 22 Batch 1200 Loss 0.0884\n",
            "Epoch 22 Loss 0.0527\n",
            "Time taken for 1 epoch 97.15849685668945 sec\n",
            "\n",
            "Epoch 23 Batch 0 Loss 0.0524\n",
            "Epoch 23 Batch 100 Loss 0.0311\n",
            "Epoch 23 Batch 200 Loss 0.0173\n",
            "Epoch 23 Batch 300 Loss 0.0247\n",
            "Epoch 23 Batch 400 Loss 0.0293\n",
            "Epoch 23 Batch 500 Loss 0.0293\n",
            "Epoch 23 Batch 600 Loss 0.0621\n",
            "Epoch 23 Batch 700 Loss 0.0415\n",
            "Epoch 23 Batch 800 Loss 0.0470\n",
            "Epoch 23 Batch 900 Loss 0.0608\n",
            "Epoch 23 Batch 1000 Loss 0.0454\n",
            "Epoch 23 Batch 1100 Loss 0.0557\n",
            "Epoch 23 Batch 1200 Loss 0.0849\n",
            "Epoch 23 Loss 0.0521\n",
            "Time taken for 1 epoch 96.23392367362976 sec\n",
            "\n",
            "Epoch 24 Batch 0 Loss 0.0266\n",
            "Epoch 24 Batch 100 Loss 0.0326\n",
            "Epoch 24 Batch 200 Loss 0.0432\n",
            "Epoch 24 Batch 300 Loss 0.0600\n",
            "Epoch 24 Batch 400 Loss 0.0302\n",
            "Epoch 24 Batch 500 Loss 0.0919\n",
            "Epoch 24 Batch 600 Loss 0.0492\n",
            "Epoch 24 Batch 700 Loss 0.0386\n",
            "Epoch 24 Batch 800 Loss 0.0268\n",
            "Epoch 24 Batch 900 Loss 0.0617\n",
            "Epoch 24 Batch 1000 Loss 0.0418\n",
            "Epoch 24 Batch 1100 Loss 0.0528\n",
            "Epoch 24 Batch 1200 Loss 0.0479\n",
            "Epoch 24 Loss 0.0497\n",
            "Time taken for 1 epoch 101.15411829948425 sec\n",
            "\n",
            "Epoch 25 Batch 0 Loss 0.0582\n",
            "Epoch 25 Batch 100 Loss 0.0352\n",
            "Epoch 25 Batch 200 Loss 0.0624\n",
            "Epoch 25 Batch 300 Loss 0.0563\n",
            "Epoch 25 Batch 400 Loss 0.0392\n",
            "Epoch 25 Batch 500 Loss 0.0245\n",
            "Epoch 25 Batch 600 Loss 0.0471\n",
            "Epoch 25 Batch 700 Loss 0.0557\n",
            "Epoch 25 Batch 800 Loss 0.0233\n",
            "Epoch 25 Batch 900 Loss 0.0695\n",
            "Epoch 25 Batch 1000 Loss 0.0343\n",
            "Epoch 25 Batch 1100 Loss 0.0507\n",
            "Epoch 25 Batch 1200 Loss 0.0514\n",
            "Epoch 25 Loss 0.0496\n",
            "Time taken for 1 epoch 96.19471144676208 sec\n",
            "\n"
          ]
        }
      ]
    },
    {
      "cell_type": "markdown",
      "source": [
        "### Перевод"
      ],
      "metadata": {
        "id": "f4pftobS57p2"
      }
    },
    {
      "cell_type": "code",
      "source": [
        "def evaluate(sentence):\n",
        "  attention_plot = np.zeros((max_length_targ, max_length_inp))\n",
        "\n",
        "  sentence = preprocess_sentence(sentence)\n",
        "\n",
        "  inputs = [inp_lang.word_index[i] for i in sentence.split(' ')]\n",
        "  inputs = tf.keras.preprocessing.sequence.pad_sequences([inputs],\n",
        "                                                         maxlen=max_length_inp,\n",
        "                                                         padding='post')\n",
        "  inputs = tf.convert_to_tensor(inputs)\n",
        "\n",
        "  result = ''\n",
        "\n",
        "  hidden = [tf.zeros((1, units))]\n",
        "  enc_out, enc_hidden = encoder(inputs, hidden)\n",
        "\n",
        "  dec_hidden = enc_hidden\n",
        "  dec_input = tf.expand_dims([targ_lang.word_index['<start>']], 0)\n",
        "\n",
        "  for t in range(max_length_targ):\n",
        "    predictions, dec_hidden, attention_weights = decoder(dec_input,\n",
        "                                                         dec_hidden,\n",
        "                                                         enc_out)\n",
        "\n",
        "    # storing the attention weights to plot later on\n",
        "    attention_weights = tf.reshape(attention_weights, (-1, ))\n",
        "    attention_plot[t] = attention_weights.numpy()\n",
        "\n",
        "    predicted_id = tf.argmax(predictions[0]).numpy()\n",
        "\n",
        "    result += targ_lang.index_word[predicted_id] + ' '\n",
        "\n",
        "    if targ_lang.index_word[predicted_id] == '<end>':\n",
        "      return result, sentence, attention_plot\n",
        "\n",
        "    # the predicted ID is fed back into the model\n",
        "    dec_input = tf.expand_dims([predicted_id], 0)\n",
        "\n",
        "  return result, sentence, attention_plot"
      ],
      "metadata": {
        "id": "6SoBJNMb59I1"
      },
      "execution_count": 37,
      "outputs": []
    },
    {
      "cell_type": "code",
      "source": [
        "# функция для отрисовки весов внимания\n",
        "def plot_attention(attention, sentence, predicted_sentence):\n",
        "  fig = plt.figure(figsize=(8, 6))\n",
        "  ax = fig.add_subplot(1, 1, 1)\n",
        "  ax.matshow(attention, cmap='viridis')\n",
        "\n",
        "  fontdict = {'fontsize': 14}\n",
        "\n",
        "  ax.set_xticklabels([''] + sentence, fontdict=fontdict, rotation=90)\n",
        "  ax.set_yticklabels([''] + predicted_sentence, fontdict=fontdict)\n",
        "\n",
        "  ax.xaxis.set_major_locator(ticker.MultipleLocator(1))\n",
        "  ax.yaxis.set_major_locator(ticker.MultipleLocator(1))\n",
        "\n",
        "  plt.show()"
      ],
      "metadata": {
        "id": "TSd_XZps6Afx"
      },
      "execution_count": 43,
      "outputs": []
    },
    {
      "cell_type": "code",
      "source": [
        "def translate(sentence):\n",
        "  result, sentence, attention_plot = evaluate(sentence)\n",
        "\n",
        "  print('Input: %s' % (sentence))\n",
        "  print('Predicted translation: {}'.format(result))\n",
        "\n",
        "  attention_plot = attention_plot[:len(result.split(' ')), :len(sentence.split(' '))]\n",
        "  plot_attention(attention_plot, sentence.split(' '), result.split(' '))"
      ],
      "metadata": {
        "id": "-mBWfLTj6NRe"
      },
      "execution_count": 39,
      "outputs": []
    },
    {
      "cell_type": "code",
      "source": [
        "# restoring the latest checkpoint in checkpoint_dir\n",
        "checkpoint.restore(tf.train.latest_checkpoint(checkpoint_dir))"
      ],
      "metadata": {
        "colab": {
          "base_uri": "https://localhost:8080/"
        },
        "id": "HCiPlbGh6v7X",
        "outputId": "15105fa4-715e-45a1-8e36-78c2ecf06c2e"
      },
      "execution_count": 41,
      "outputs": [
        {
          "output_type": "execute_result",
          "data": {
            "text/plain": [
              "<tensorflow.python.checkpoint.checkpoint.CheckpointLoadStatus at 0x7d0c4b4a7910>"
            ]
          },
          "metadata": {},
          "execution_count": 41
        }
      ]
    },
    {
      "cell_type": "code",
      "source": [
        "translate('Здесь хорошо.')"
      ],
      "metadata": {
        "colab": {
          "base_uri": "https://localhost:8080/",
          "height": 700
        },
        "id": "wfjoNkL26Por",
        "outputId": "8c64b0e6-ad54-4f8a-ee41-b95bb097b680"
      },
      "execution_count": 45,
      "outputs": [
        {
          "output_type": "stream",
          "name": "stdout",
          "text": [
            "Input: <start> здесь хорошо . <end>\n",
            "Predicted translation: it's fine here . <end> \n"
          ]
        },
        {
          "output_type": "stream",
          "name": "stderr",
          "text": [
            "<ipython-input-43-110c8b964a70>:9: UserWarning: FixedFormatter should only be used together with FixedLocator\n",
            "  ax.set_xticklabels([''] + sentence, fontdict=fontdict, rotation=90)\n",
            "<ipython-input-43-110c8b964a70>:10: UserWarning: FixedFormatter should only be used together with FixedLocator\n",
            "  ax.set_yticklabels([''] + predicted_sentence, fontdict=fontdict)\n"
          ]
        },
        {
          "output_type": "display_data",
          "data": {
            "text/plain": [
              "<Figure size 800x600 with 1 Axes>"
            ],
            "image/png": "[encoded data removed]"
          },
          "metadata": {}
        }
      ]
    },
    {
      "cell_type": "code",
      "source": [
        "translate('Сегодня хорошая погода')"
      ],
      "metadata": {
        "colab": {
          "base_uri": "https://localhost:8080/",
          "height": 711
        },
        "id": "OAAJF1YJ7ElR",
        "outputId": "8ac72716-d6c0-4bfa-f57f-0452c7f40452"
      },
      "execution_count": 44,
      "outputs": [
        {
          "output_type": "stream",
          "name": "stdout",
          "text": [
            "Input: <start> сегодня хорошая погода <end>\n",
            "Predicted translation: it's fine today . <end> \n"
          ]
        },
        {
          "output_type": "stream",
          "name": "stderr",
          "text": [
            "<ipython-input-43-110c8b964a70>:9: UserWarning: FixedFormatter should only be used together with FixedLocator\n",
            "  ax.set_xticklabels([''] + sentence, fontdict=fontdict, rotation=90)\n",
            "<ipython-input-43-110c8b964a70>:10: UserWarning: FixedFormatter should only be used together with FixedLocator\n",
            "  ax.set_yticklabels([''] + predicted_sentence, fontdict=fontdict)\n"
          ]
        },
        {
          "output_type": "display_data",
          "data": {
            "text/plain": [
              "<Figure size 800x600 with 1 Axes>"
            ],
            "image/png": "[encoded data removed]"
          },
          "metadata": {}
        }
      ]
    },
    {
      "cell_type": "code",
      "source": [
        "translate(u'Я заболел, сегодня не поеду на работу.')"
      ],
      "metadata": {
        "colab": {
          "base_uri": "https://localhost:8080/",
          "height": 694
        },
        "id": "h5estazf7Qpw",
        "outputId": "0aa750ec-6076-4e3b-c9c4-eae6ae6881d3"
      },
      "execution_count": 49,
      "outputs": [
        {
          "output_type": "stream",
          "name": "stdout",
          "text": [
            "Input: <start> я заболел , сегодня не поеду на работу . <end>\n",
            "Predicted translation: i stay up to work . <end> \n"
          ]
        },
        {
          "output_type": "stream",
          "name": "stderr",
          "text": [
            "<ipython-input-43-110c8b964a70>:9: UserWarning: FixedFormatter should only be used together with FixedLocator\n",
            "  ax.set_xticklabels([''] + sentence, fontdict=fontdict, rotation=90)\n",
            "<ipython-input-43-110c8b964a70>:10: UserWarning: FixedFormatter should only be used together with FixedLocator\n",
            "  ax.set_yticklabels([''] + predicted_sentence, fontdict=fontdict)\n"
          ]
        },
        {
          "output_type": "display_data",
          "data": {
            "text/plain": [
              "<Figure size 800x600 with 1 Axes>"
            ],
            "image/png": "[encoded data removed]"
          },
          "metadata": {}
        }
      ]
    },
    {
      "cell_type": "code",
      "source": [
        "text_to_translate = 'Жили-были старик со старухой. Вот и говорит старик старухе: — Поди-ка, старуха, по коробу поскреби, по сусеку помети, не наскребешь ли муки на колобок.'"
      ],
      "metadata": {
        "id": "xorKOSG27v4d"
      },
      "execution_count": 50,
      "outputs": []
    },
    {
      "cell_type": "code",
      "source": [
        "translate(text_to_translate)"
      ],
      "metadata": {
        "colab": {
          "base_uri": "https://localhost:8080/",
          "height": 332
        },
        "id": "u-oqIce88KMh",
        "outputId": "c42b08c1-508b-4e82-c98a-94e442690ee8"
      },
      "execution_count": 51,
      "outputs": [
        {
          "output_type": "error",
          "ename": "KeyError",
          "evalue": "ignored",
          "traceback": [
            "\u001b[0;31m---------------------------------------------------------------------------\u001b[0m",
            "\u001b[0;31mKeyError\u001b[0m                                  Traceback (most recent call last)",
            "\u001b[0;32m<ipython-input-51-97f5cffd9e44>\u001b[0m in \u001b[0;36m<cell line: 1>\u001b[0;34m()\u001b[0m\n\u001b[0;32m----> 1\u001b[0;31m \u001b[0mtranslate\u001b[0m\u001b[0;34m(\u001b[0m\u001b[0mtext_to_translate\u001b[0m\u001b[0;34m)\u001b[0m\u001b[0;34m\u001b[0m\u001b[0;34m\u001b[0m\u001b[0m\n\u001b[0m",
            "\u001b[0;32m<ipython-input-39-bd54cd790ad2>\u001b[0m in \u001b[0;36mtranslate\u001b[0;34m(sentence)\u001b[0m\n\u001b[1;32m      1\u001b[0m \u001b[0;32mdef\u001b[0m \u001b[0mtranslate\u001b[0m\u001b[0;34m(\u001b[0m\u001b[0msentence\u001b[0m\u001b[0;34m)\u001b[0m\u001b[0;34m:\u001b[0m\u001b[0;34m\u001b[0m\u001b[0;34m\u001b[0m\u001b[0m\n\u001b[0;32m----> 2\u001b[0;31m   \u001b[0mresult\u001b[0m\u001b[0;34m,\u001b[0m \u001b[0msentence\u001b[0m\u001b[0;34m,\u001b[0m \u001b[0mattention_plot\u001b[0m \u001b[0;34m=\u001b[0m \u001b[0mevaluate\u001b[0m\u001b[0;34m(\u001b[0m\u001b[0msentence\u001b[0m\u001b[0;34m)\u001b[0m\u001b[0;34m\u001b[0m\u001b[0;34m\u001b[0m\u001b[0m\n\u001b[0m\u001b[1;32m      3\u001b[0m \u001b[0;34m\u001b[0m\u001b[0m\n\u001b[1;32m      4\u001b[0m   \u001b[0mprint\u001b[0m\u001b[0;34m(\u001b[0m\u001b[0;34m'Input: %s'\u001b[0m \u001b[0;34m%\u001b[0m \u001b[0;34m(\u001b[0m\u001b[0msentence\u001b[0m\u001b[0;34m)\u001b[0m\u001b[0;34m)\u001b[0m\u001b[0;34m\u001b[0m\u001b[0;34m\u001b[0m\u001b[0m\n\u001b[1;32m      5\u001b[0m   \u001b[0mprint\u001b[0m\u001b[0;34m(\u001b[0m\u001b[0;34m'Predicted translation: {}'\u001b[0m\u001b[0;34m.\u001b[0m\u001b[0mformat\u001b[0m\u001b[0;34m(\u001b[0m\u001b[0mresult\u001b[0m\u001b[0;34m)\u001b[0m\u001b[0;34m)\u001b[0m\u001b[0;34m\u001b[0m\u001b[0;34m\u001b[0m\u001b[0m\n",
            "\u001b[0;32m<ipython-input-37-88c350b1987b>\u001b[0m in \u001b[0;36mevaluate\u001b[0;34m(sentence)\u001b[0m\n\u001b[1;32m      4\u001b[0m   \u001b[0msentence\u001b[0m \u001b[0;34m=\u001b[0m \u001b[0mpreprocess_sentence\u001b[0m\u001b[0;34m(\u001b[0m\u001b[0msentence\u001b[0m\u001b[0;34m)\u001b[0m\u001b[0;34m\u001b[0m\u001b[0;34m\u001b[0m\u001b[0m\n\u001b[1;32m      5\u001b[0m \u001b[0;34m\u001b[0m\u001b[0m\n\u001b[0;32m----> 6\u001b[0;31m   \u001b[0minputs\u001b[0m \u001b[0;34m=\u001b[0m \u001b[0;34m[\u001b[0m\u001b[0minp_lang\u001b[0m\u001b[0;34m.\u001b[0m\u001b[0mword_index\u001b[0m\u001b[0;34m[\u001b[0m\u001b[0mi\u001b[0m\u001b[0;34m]\u001b[0m \u001b[0;32mfor\u001b[0m \u001b[0mi\u001b[0m \u001b[0;32min\u001b[0m \u001b[0msentence\u001b[0m\u001b[0;34m.\u001b[0m\u001b[0msplit\u001b[0m\u001b[0;34m(\u001b[0m\u001b[0;34m' '\u001b[0m\u001b[0;34m)\u001b[0m\u001b[0;34m]\u001b[0m\u001b[0;34m\u001b[0m\u001b[0;34m\u001b[0m\u001b[0m\n\u001b[0m\u001b[1;32m      7\u001b[0m   inputs = tf.keras.preprocessing.sequence.pad_sequences([inputs],\n\u001b[1;32m      8\u001b[0m                                                          \u001b[0mmaxlen\u001b[0m\u001b[0;34m=\u001b[0m\u001b[0mmax_length_inp\u001b[0m\u001b[0;34m,\u001b[0m\u001b[0;34m\u001b[0m\u001b[0;34m\u001b[0m\u001b[0m\n",
            "\u001b[0;32m<ipython-input-37-88c350b1987b>\u001b[0m in \u001b[0;36m<listcomp>\u001b[0;34m(.0)\u001b[0m\n\u001b[1;32m      4\u001b[0m   \u001b[0msentence\u001b[0m \u001b[0;34m=\u001b[0m \u001b[0mpreprocess_sentence\u001b[0m\u001b[0;34m(\u001b[0m\u001b[0msentence\u001b[0m\u001b[0;34m)\u001b[0m\u001b[0;34m\u001b[0m\u001b[0;34m\u001b[0m\u001b[0m\n\u001b[1;32m      5\u001b[0m \u001b[0;34m\u001b[0m\u001b[0m\n\u001b[0;32m----> 6\u001b[0;31m   \u001b[0minputs\u001b[0m \u001b[0;34m=\u001b[0m \u001b[0;34m[\u001b[0m\u001b[0minp_lang\u001b[0m\u001b[0;34m.\u001b[0m\u001b[0mword_index\u001b[0m\u001b[0;34m[\u001b[0m\u001b[0mi\u001b[0m\u001b[0;34m]\u001b[0m \u001b[0;32mfor\u001b[0m \u001b[0mi\u001b[0m \u001b[0;32min\u001b[0m \u001b[0msentence\u001b[0m\u001b[0;34m.\u001b[0m\u001b[0msplit\u001b[0m\u001b[0;34m(\u001b[0m\u001b[0;34m' '\u001b[0m\u001b[0;34m)\u001b[0m\u001b[0;34m]\u001b[0m\u001b[0;34m\u001b[0m\u001b[0;34m\u001b[0m\u001b[0m\n\u001b[0m\u001b[1;32m      7\u001b[0m   inputs = tf.keras.preprocessing.sequence.pad_sequences([inputs],\n\u001b[1;32m      8\u001b[0m                                                          \u001b[0mmaxlen\u001b[0m\u001b[0;34m=\u001b[0m\u001b[0mmax_length_inp\u001b[0m\u001b[0;34m,\u001b[0m\u001b[0;34m\u001b[0m\u001b[0;34m\u001b[0m\u001b[0m\n",
            "\u001b[0;31mKeyError\u001b[0m: 'старухой'"
          ]
        }
      ]
    },
    {
      "cell_type": "code",
      "source": [
        "text_to_translate = 'Привет, как дела? Я сегодня заболел, на работу не поеду. Останусь дома, буду валяться и пить пиво как неудачник'"
      ],
      "metadata": {
        "id": "o9UJIvEu8Wis"
      },
      "execution_count": 64,
      "outputs": []
    },
    {
      "cell_type": "code",
      "source": [
        "translate(text_to_translate)"
      ],
      "metadata": {
        "colab": {
          "base_uri": "https://localhost:8080/",
          "height": 657
        },
        "id": "UWGFxg5u80k6",
        "outputId": "3dcf3ff0-aa9e-4c2d-cdef-a67bdba7c7c5"
      },
      "execution_count": 65,
      "outputs": [
        {
          "output_type": "stream",
          "name": "stdout",
          "text": [
            "Input: <start> привет , как дела ? я сегодня заболел , на работу не поеду . останусь дома , буду валяться и пить пиво как неудачник <end>\n",
            "Predicted translation: don't be not go out to work . <end> \n"
          ]
        },
        {
          "output_type": "stream",
          "name": "stderr",
          "text": [
            "<ipython-input-43-110c8b964a70>:9: UserWarning: FixedFormatter should only be used together with FixedLocator\n",
            "  ax.set_xticklabels([''] + sentence, fontdict=fontdict, rotation=90)\n",
            "<ipython-input-43-110c8b964a70>:10: UserWarning: FixedFormatter should only be used together with FixedLocator\n",
            "  ax.set_yticklabels([''] + predicted_sentence, fontdict=fontdict)\n"
          ]
        },
        {
          "output_type": "display_data",
          "data": {
            "text/plain": [
              "<Figure size 800x600 with 1 Axes>"
            ],
            "image/png": "[encoded data removed]"
          },
          "metadata": {}
        }
      ]
    },
    {
      "cell_type": "markdown",
      "source": [
        "Нейронный машинный перевод (NMT) с вниманием в TensorFlow (TF) в последние годы приобрел значительное внимание и популярность благодаря своей способности улучшать качество перевода по сравнению с традиционными подходами к машинному переводу. Однако, как и любая технология, она имеет свои преимущества и недостатки.\n",
        "\n",
        "Преимущества НМТ с вниманием в TF:\n",
        "\n",
        "1. Улучшенное качество перевода. Одним из основных преимуществ NMT с вниманием является его способность производить переводы более высокого качества. Модели NMT продемонстрировали значительный прогресс в улавливании сложных языковых паттернов и обеспечении более беглых и точных переводов. Механизм внимания позволяет модели сосредоточиться на соответствующих частях исходного предложения при создании целевого перевода, что приводит к повышению связности и точности.\n",
        "\n",
        "2. Сквозное обучение: модели NMT с вниманием обеспечивают сквозное обучение, что означает, что весь процесс перевода изучается связанно от исходного ввода (исходное предложение) до вывода (целевой перевод). Это устраняет необходимость в ручном проектировании признаков или промежуточных представлениях, что делает процесс обучения более рациональным и эффективным. Сквозное обучение также позволяет модели эффективно фиксировать долгосрочные зависимости и контекстную информацию.\n",
        "\n",
        "3. Гибкость и адаптируемость: модели NMT с вниманием очень гибки и адаптируются к различным языковым парам и областям. В отличие от систем SMT (статистический машинный перевод), основанных на правилах или фразах, которые требуют обширной ручной настройки для каждой языковой пары, модели NMT можно обучать на параллельных корпусах различных языков без существенных модификаций. Такая гибкость упрощает масштабирование систем NMT для нескольких языковых пар или адаптацию их к конкретным областям или задачам.\n",
        "\n",
        "4. Контекстно-зависимые переводы. Механизм внимания в моделях NMT позволяет им учитывать все исходное предложение при создании каждого слова целевого перевода. Понимание контекста помогает разрешать двусмысленности и производить более точные переводы, принимая во внимание соответствующую информацию из исходного предложения. Это позволяет модели улавливать зависимости между удаленными словами и более эффективно обрабатывать сложные синтаксические структуры.\n",
        "\n",
        "5. Снижение зависимости от функций, созданных вручную. В отличие от традиционных систем SMT, которые в значительной степени полагаются на созданные вручную лингвистические функции, модели NMT с вниманием изучают функции автоматически на основе данных. Это уменьшает необходимость в ручном проектировании функций и делает процесс перевода более управляемым данными. Изучая представления непосредственно из входных данных, модели NMT могут улавливать тонкие лингвистические нюансы и улучшать качество перевода.\n",
        "\n",
        "Недостатки НМТ с вниманием в ТФ:\n",
        "\n",
        "1. Вычислительная сложность: модели NMT с вниманием, как правило, являются более дорогими в вычислительном отношении по сравнению с традиционными системами SMT. Механизм внимания требует дополнительных вычислений для согласования исходных и целевых слов, что может значительно увеличить время обучения и вывода. Внимательное обучение крупномасштабных моделей NMT может потребовать мощных аппаратных ресурсов, таких как графические или тензорные процессоры, для достижения разумного времени обучения.\n",
        "\n",
        "2. Требования к данным. Модели NMT с вниманием обычно требуют большого количества параллельных корпусов для обучения для достижения оптимальной производительности. Получение высококачественных параллельных данных может быть сложной задачей, особенно для языков с ограниченными ресурсами или специализированных областей, где доступны ограниченные параллельные корпуса. Недостаток обучающих данных может привести к плохому обобщению и снижению качества перевода.\n",
        "\n",
        "3. Отсутствие интерпретируемости. Хотя модели NMT с вниманием показали впечатляющую эффективность перевода, им часто не хватает интерпретируемости по сравнению с традиционными системами SMT. Природа глубоких нейронных сетей (как черный ящик) затрудняет понимание того, как модель достигает своих переводов, или выявление конкретных ошибок в выходных данных. Отсутствие интерпретируемости может быть недостатком в некоторых приложениях, где прозрачность и объяснимость имеют решающее значение.\n",
        "\n",
        "В заключение, NMT с вниманием в TensorFlow предлагает несколько преимуществ, таких как улучшенное качество перевода, сквозное обучение, гибкость, адаптируемость, контекстно-зависимые переводы и меньшая зависимость от функций, созданных вручную. Однако он также имеет некоторые недостатки, включая вычислительную сложность, требования к данным и отсутствие интерпретируемости. Несмотря на эти ограничения, NMT произвел революцию в области машинного перевода и продолжает оставаться активной областью исследований и разработок.\n",
        "\n",
        "\n",
        "\n",
        "1. \"Neural Machine Translation by Jointly Learning to Align and Translate\" by Dzmitry Bahdanau et al.\n",
        "2. \"Attention Is All You Need\" by Vaswani et al.\n",
        "3. https://www.tensorflow.org"
      ],
      "metadata": {
        "id": "qL43P2-p9t0d"
      }
    },
    {
      "cell_type": "markdown",
      "source": [
        "В заключение ссылка на небольшое интервью с Дмитрием Богдановым\n",
        "\n",
        "https://dzen.ru/a/XKSFq3IBtQCy-_By"
      ],
      "metadata": {
        "id": "77JzrCfZBb3E"
      }
    }
  ]
}